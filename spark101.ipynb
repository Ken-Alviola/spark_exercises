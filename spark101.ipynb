{
 "cells": [
  {
   "cell_type": "code",
   "execution_count": 1,
   "metadata": {
    "ExecuteTime": {
     "end_time": "2021-05-13T14:54:43.246515Z",
     "start_time": "2021-05-13T14:54:43.053894Z"
    }
   },
   "outputs": [],
   "source": [
    "import pandas as pd\n",
    "import numpy as np\n",
    "import matplotlib.pyplot as plt\n",
    "import seaborn as sns\n",
    "import pyspark\n",
    "import multiprocessing\n",
    "from pyspark.sql.functions import asc, desc, col, sum, mean, concat, lit, regexp_extract, regexp_replace, when, max, min"
   ]
  },
  {
   "cell_type": "markdown",
   "metadata": {},
   "source": [
    "Create a jupyter notebook or python script named spark101 for this exercise.\n",
    "\n",
    "### 1. Create a spark data frame that contains your favorite programming languages.\n",
    "- The name of the column should be language\n"
   ]
  },
  {
   "cell_type": "code",
   "execution_count": 2,
   "metadata": {
    "ExecuteTime": {
     "end_time": "2021-05-13T14:55:00.111847Z",
     "start_time": "2021-05-13T14:54:43.252516Z"
    }
   },
   "outputs": [],
   "source": [
    "pandas_dataframe = pd.DataFrame({\n",
    "    \"Python\": np.random.choice([0,1], 20),\n",
    "    \"C++\": np.random.choice([0,1], 20),\n",
    "    \"Javascript\": np.random.choice([0,1], 20),\n",
    "})\n",
    "\n",
    "spark = pyspark.sql.SparkSession.builder.getOrCreate()\n",
    "df = spark.createDataFrame(pandas_dataframe)"
   ]
  },
  {
   "cell_type": "markdown",
   "metadata": {},
   "source": [
    "- View the schema of the dataframe"
   ]
  },
  {
   "cell_type": "code",
   "execution_count": 3,
   "metadata": {
    "ExecuteTime": {
     "end_time": "2021-05-13T14:55:00.173975Z",
     "start_time": "2021-05-13T14:55:00.121759Z"
    }
   },
   "outputs": [
    {
     "data": {
      "text/plain": [
       "StructType(List(StructField(Python,LongType,true),StructField(C++,LongType,true),StructField(Javascript,LongType,true)))"
      ]
     },
     "execution_count": 3,
     "metadata": {},
     "output_type": "execute_result"
    }
   ],
   "source": [
    "df.schema"
   ]
  },
  {
   "cell_type": "markdown",
   "metadata": {},
   "source": [
    "- Output the shape of the dataframe"
   ]
  },
  {
   "cell_type": "code",
   "execution_count": 4,
   "metadata": {
    "ExecuteTime": {
     "end_time": "2021-05-13T14:55:07.552048Z",
     "start_time": "2021-05-13T14:55:00.194937Z"
    }
   },
   "outputs": [
    {
     "data": {
      "text/plain": [
       "(20, 3)"
      ]
     },
     "execution_count": 4,
     "metadata": {},
     "output_type": "execute_result"
    }
   ],
   "source": [
    "df.toPandas().shape"
   ]
  },
  {
   "cell_type": "markdown",
   "metadata": {},
   "source": [
    "- Show the first 5 records in the dataframe"
   ]
  },
  {
   "cell_type": "code",
   "execution_count": 5,
   "metadata": {
    "ExecuteTime": {
     "end_time": "2021-05-13T14:55:08.934983Z",
     "start_time": "2021-05-13T14:55:07.566927Z"
    }
   },
   "outputs": [
    {
     "name": "stdout",
     "output_type": "stream",
     "text": [
      "+------+---+----------+\n",
      "|Python|C++|Javascript|\n",
      "+------+---+----------+\n",
      "|     0|  1|         1|\n",
      "|     1|  0|         1|\n",
      "|     1|  0|         1|\n",
      "|     1|  1|         1|\n",
      "|     0|  1|         1|\n",
      "+------+---+----------+\n",
      "only showing top 5 rows\n",
      "\n"
     ]
    }
   ],
   "source": [
    "df.show(5)"
   ]
  },
  {
   "cell_type": "markdown",
   "metadata": {},
   "source": [
    "### 2. Load the mpg dataset as a spark dataframe."
   ]
  },
  {
   "cell_type": "code",
   "execution_count": 6,
   "metadata": {
    "ExecuteTime": {
     "end_time": "2021-05-13T14:55:09.281700Z",
     "start_time": "2021-05-13T14:55:08.967391Z"
    }
   },
   "outputs": [],
   "source": [
    "from pydataset import data"
   ]
  },
  {
   "cell_type": "code",
   "execution_count": 7,
   "metadata": {
    "ExecuteTime": {
     "end_time": "2021-05-13T14:55:09.363100Z",
     "start_time": "2021-05-13T14:55:09.306102Z"
    }
   },
   "outputs": [],
   "source": [
    "mpg = data('mpg')"
   ]
  },
  {
   "cell_type": "code",
   "execution_count": 8,
   "metadata": {
    "ExecuteTime": {
     "end_time": "2021-05-13T14:55:09.507451Z",
     "start_time": "2021-05-13T14:55:09.396972Z"
    }
   },
   "outputs": [
    {
     "data": {
      "text/html": [
       "<div>\n",
       "<style scoped>\n",
       "    .dataframe tbody tr th:only-of-type {\n",
       "        vertical-align: middle;\n",
       "    }\n",
       "\n",
       "    .dataframe tbody tr th {\n",
       "        vertical-align: top;\n",
       "    }\n",
       "\n",
       "    .dataframe thead th {\n",
       "        text-align: right;\n",
       "    }\n",
       "</style>\n",
       "<table border=\"1\" class=\"dataframe\">\n",
       "  <thead>\n",
       "    <tr style=\"text-align: right;\">\n",
       "      <th></th>\n",
       "      <th>manufacturer</th>\n",
       "      <th>model</th>\n",
       "      <th>displ</th>\n",
       "      <th>year</th>\n",
       "      <th>cyl</th>\n",
       "      <th>trans</th>\n",
       "      <th>drv</th>\n",
       "      <th>cty</th>\n",
       "      <th>hwy</th>\n",
       "      <th>fl</th>\n",
       "      <th>class</th>\n",
       "    </tr>\n",
       "  </thead>\n",
       "  <tbody>\n",
       "    <tr>\n",
       "      <th>1</th>\n",
       "      <td>audi</td>\n",
       "      <td>a4</td>\n",
       "      <td>1.8</td>\n",
       "      <td>1999</td>\n",
       "      <td>4</td>\n",
       "      <td>auto(l5)</td>\n",
       "      <td>f</td>\n",
       "      <td>18</td>\n",
       "      <td>29</td>\n",
       "      <td>p</td>\n",
       "      <td>compact</td>\n",
       "    </tr>\n",
       "    <tr>\n",
       "      <th>2</th>\n",
       "      <td>audi</td>\n",
       "      <td>a4</td>\n",
       "      <td>1.8</td>\n",
       "      <td>1999</td>\n",
       "      <td>4</td>\n",
       "      <td>manual(m5)</td>\n",
       "      <td>f</td>\n",
       "      <td>21</td>\n",
       "      <td>29</td>\n",
       "      <td>p</td>\n",
       "      <td>compact</td>\n",
       "    </tr>\n",
       "    <tr>\n",
       "      <th>3</th>\n",
       "      <td>audi</td>\n",
       "      <td>a4</td>\n",
       "      <td>2.0</td>\n",
       "      <td>2008</td>\n",
       "      <td>4</td>\n",
       "      <td>manual(m6)</td>\n",
       "      <td>f</td>\n",
       "      <td>20</td>\n",
       "      <td>31</td>\n",
       "      <td>p</td>\n",
       "      <td>compact</td>\n",
       "    </tr>\n",
       "    <tr>\n",
       "      <th>4</th>\n",
       "      <td>audi</td>\n",
       "      <td>a4</td>\n",
       "      <td>2.0</td>\n",
       "      <td>2008</td>\n",
       "      <td>4</td>\n",
       "      <td>auto(av)</td>\n",
       "      <td>f</td>\n",
       "      <td>21</td>\n",
       "      <td>30</td>\n",
       "      <td>p</td>\n",
       "      <td>compact</td>\n",
       "    </tr>\n",
       "    <tr>\n",
       "      <th>5</th>\n",
       "      <td>audi</td>\n",
       "      <td>a4</td>\n",
       "      <td>2.8</td>\n",
       "      <td>1999</td>\n",
       "      <td>6</td>\n",
       "      <td>auto(l5)</td>\n",
       "      <td>f</td>\n",
       "      <td>16</td>\n",
       "      <td>26</td>\n",
       "      <td>p</td>\n",
       "      <td>compact</td>\n",
       "    </tr>\n",
       "  </tbody>\n",
       "</table>\n",
       "</div>"
      ],
      "text/plain": [
       "  manufacturer model  displ  year  cyl       trans drv  cty  hwy fl    class\n",
       "1         audi    a4    1.8  1999    4    auto(l5)   f   18   29  p  compact\n",
       "2         audi    a4    1.8  1999    4  manual(m5)   f   21   29  p  compact\n",
       "3         audi    a4    2.0  2008    4  manual(m6)   f   20   31  p  compact\n",
       "4         audi    a4    2.0  2008    4    auto(av)   f   21   30  p  compact\n",
       "5         audi    a4    2.8  1999    6    auto(l5)   f   16   26  p  compact"
      ]
     },
     "execution_count": 8,
     "metadata": {},
     "output_type": "execute_result"
    }
   ],
   "source": [
    "mpg.head()"
   ]
  },
  {
   "cell_type": "code",
   "execution_count": 9,
   "metadata": {
    "ExecuteTime": {
     "end_time": "2021-05-13T14:55:11.186432Z",
     "start_time": "2021-05-13T14:55:09.567364Z"
    }
   },
   "outputs": [
    {
     "name": "stdout",
     "output_type": "stream",
     "text": [
      "+------------+------------------+-----+----+---+----------+---+---+---+---+-------+\n",
      "|manufacturer|             model|displ|year|cyl|     trans|drv|cty|hwy| fl|  class|\n",
      "+------------+------------------+-----+----+---+----------+---+---+---+---+-------+\n",
      "|        audi|                a4|  1.8|1999|  4|  auto(l5)|  f| 18| 29|  p|compact|\n",
      "|        audi|                a4|  1.8|1999|  4|manual(m5)|  f| 21| 29|  p|compact|\n",
      "|        audi|                a4|  2.0|2008|  4|manual(m6)|  f| 20| 31|  p|compact|\n",
      "|        audi|                a4|  2.0|2008|  4|  auto(av)|  f| 21| 30|  p|compact|\n",
      "|        audi|                a4|  2.8|1999|  6|  auto(l5)|  f| 16| 26|  p|compact|\n",
      "|        audi|                a4|  2.8|1999|  6|manual(m5)|  f| 18| 26|  p|compact|\n",
      "|        audi|                a4|  3.1|2008|  6|  auto(av)|  f| 18| 27|  p|compact|\n",
      "|        audi|        a4 quattro|  1.8|1999|  4|manual(m5)|  4| 18| 26|  p|compact|\n",
      "|        audi|        a4 quattro|  1.8|1999|  4|  auto(l5)|  4| 16| 25|  p|compact|\n",
      "|        audi|        a4 quattro|  2.0|2008|  4|manual(m6)|  4| 20| 28|  p|compact|\n",
      "|        audi|        a4 quattro|  2.0|2008|  4|  auto(s6)|  4| 19| 27|  p|compact|\n",
      "|        audi|        a4 quattro|  2.8|1999|  6|  auto(l5)|  4| 15| 25|  p|compact|\n",
      "|        audi|        a4 quattro|  2.8|1999|  6|manual(m5)|  4| 17| 25|  p|compact|\n",
      "|        audi|        a4 quattro|  3.1|2008|  6|  auto(s6)|  4| 17| 25|  p|compact|\n",
      "|        audi|        a4 quattro|  3.1|2008|  6|manual(m6)|  4| 15| 25|  p|compact|\n",
      "|        audi|        a6 quattro|  2.8|1999|  6|  auto(l5)|  4| 15| 24|  p|midsize|\n",
      "|        audi|        a6 quattro|  3.1|2008|  6|  auto(s6)|  4| 17| 25|  p|midsize|\n",
      "|        audi|        a6 quattro|  4.2|2008|  8|  auto(s6)|  4| 16| 23|  p|midsize|\n",
      "|   chevrolet|c1500 suburban 2wd|  5.3|2008|  8|  auto(l4)|  r| 14| 20|  r|    suv|\n",
      "|   chevrolet|c1500 suburban 2wd|  5.3|2008|  8|  auto(l4)|  r| 11| 15|  e|    suv|\n",
      "+------------+------------------+-----+----+---+----------+---+---+---+---+-------+\n",
      "only showing top 20 rows\n",
      "\n"
     ]
    }
   ],
   "source": [
    "df = spark.createDataFrame(mpg)\n",
    "df.show()"
   ]
  },
  {
   "cell_type": "code",
   "execution_count": null,
   "metadata": {},
   "outputs": [],
   "source": []
  },
  {
   "cell_type": "markdown",
   "metadata": {},
   "source": [
    "- a. Create 1 column of output that contains a message like the one below:\n",
    "        The 1999 audi a4 has a 4 cylinder engine."
   ]
  },
  {
   "cell_type": "code",
   "execution_count": 10,
   "metadata": {
    "ExecuteTime": {
     "end_time": "2021-05-13T14:55:13.262253Z",
     "start_time": "2021-05-13T14:55:11.201595Z"
    }
   },
   "outputs": [
    {
     "name": "stdout",
     "output_type": "stream",
     "text": [
      "+-----------------------------------------------------------------------------+\n",
      "|concat(The , year,  , manufacturer,  , model,  has a , cyl,  cylinder engine)|\n",
      "+-----------------------------------------------------------------------------+\n",
      "|The 1999 audi a4 has a 4 cylinder engine                                     |\n",
      "|The 1999 audi a4 has a 4 cylinder engine                                     |\n",
      "|The 2008 audi a4 has a 4 cylinder engine                                     |\n",
      "|The 2008 audi a4 has a 4 cylinder engine                                     |\n",
      "|The 1999 audi a4 has a 6 cylinder engine                                     |\n",
      "|The 1999 audi a4 has a 6 cylinder engine                                     |\n",
      "|The 2008 audi a4 has a 6 cylinder engine                                     |\n",
      "|The 1999 audi a4 quattro has a 4 cylinder engine                             |\n",
      "|The 1999 audi a4 quattro has a 4 cylinder engine                             |\n",
      "|The 2008 audi a4 quattro has a 4 cylinder engine                             |\n",
      "|The 2008 audi a4 quattro has a 4 cylinder engine                             |\n",
      "|The 1999 audi a4 quattro has a 6 cylinder engine                             |\n",
      "|The 1999 audi a4 quattro has a 6 cylinder engine                             |\n",
      "|The 2008 audi a4 quattro has a 6 cylinder engine                             |\n",
      "|The 2008 audi a4 quattro has a 6 cylinder engine                             |\n",
      "|The 1999 audi a6 quattro has a 6 cylinder engine                             |\n",
      "|The 2008 audi a6 quattro has a 6 cylinder engine                             |\n",
      "|The 2008 audi a6 quattro has a 8 cylinder engine                             |\n",
      "|The 2008 chevrolet c1500 suburban 2wd has a 8 cylinder engine                |\n",
      "|The 2008 chevrolet c1500 suburban 2wd has a 8 cylinder engine                |\n",
      "+-----------------------------------------------------------------------------+\n",
      "only showing top 20 rows\n",
      "\n"
     ]
    }
   ],
   "source": [
    "df.select(concat(lit('The '), df.year, lit(' '), df.manufacturer, lit(\n",
    "    ' '), df.model, lit(' has a '), df.cyl, lit(' cylinder engine'))).show(truncate=False)"
   ]
  },
  {
   "cell_type": "markdown",
   "metadata": {},
   "source": [
    "- For each vehicle."
   ]
  },
  {
   "cell_type": "markdown",
   "metadata": {},
   "source": [
    "- b. Transform the trans column so that it only contains either manual or auto."
   ]
  },
  {
   "cell_type": "code",
   "execution_count": 11,
   "metadata": {
    "ExecuteTime": {
     "end_time": "2021-05-13T14:55:13.754928Z",
     "start_time": "2021-05-13T14:55:13.324118Z"
    }
   },
   "outputs": [
    {
     "name": "stdout",
     "output_type": "stream",
     "text": [
      "+----------+\n",
      "|     trans|\n",
      "+----------+\n",
      "|  auto(l5)|\n",
      "|manual(m5)|\n",
      "|manual(m6)|\n",
      "|  auto(av)|\n",
      "|  auto(l5)|\n",
      "|manual(m5)|\n",
      "|  auto(av)|\n",
      "|manual(m5)|\n",
      "|  auto(l5)|\n",
      "|manual(m6)|\n",
      "|  auto(s6)|\n",
      "|  auto(l5)|\n",
      "|manual(m5)|\n",
      "|  auto(s6)|\n",
      "|manual(m6)|\n",
      "|  auto(l5)|\n",
      "|  auto(s6)|\n",
      "|  auto(s6)|\n",
      "|  auto(l4)|\n",
      "|  auto(l4)|\n",
      "+----------+\n",
      "only showing top 20 rows\n",
      "\n"
     ]
    }
   ],
   "source": [
    "df.select('trans').show()"
   ]
  },
  {
   "cell_type": "code",
   "execution_count": 12,
   "metadata": {
    "ExecuteTime": {
     "end_time": "2021-05-13T14:55:14.521910Z",
     "start_time": "2021-05-13T14:55:13.763696Z"
    }
   },
   "outputs": [
    {
     "name": "stdout",
     "output_type": "stream",
     "text": [
      "+--------+\n",
      "|   trans|\n",
      "+--------+\n",
      "|auto(l5)|\n",
      "|auto(av)|\n",
      "|auto(l5)|\n",
      "|auto(av)|\n",
      "|auto(l5)|\n",
      "|auto(s6)|\n",
      "|auto(l5)|\n",
      "|auto(s6)|\n",
      "|auto(l5)|\n",
      "|auto(s6)|\n",
      "|auto(s6)|\n",
      "|auto(l4)|\n",
      "|auto(l4)|\n",
      "|auto(l4)|\n",
      "|auto(l4)|\n",
      "|auto(l4)|\n",
      "|auto(l4)|\n",
      "|auto(s6)|\n",
      "|auto(l4)|\n",
      "|auto(l4)|\n",
      "+--------+\n",
      "only showing top 20 rows\n",
      "\n"
     ]
    }
   ],
   "source": [
    "df.where(col('trans').like(\"%auto%\")).select(df.trans).show()"
   ]
  },
  {
   "cell_type": "code",
   "execution_count": 13,
   "metadata": {
    "ExecuteTime": {
     "end_time": "2021-05-13T14:55:15.103125Z",
     "start_time": "2021-05-13T14:55:14.529034Z"
    }
   },
   "outputs": [
    {
     "name": "stdout",
     "output_type": "stream",
     "text": [
      "+----------+------------+\n",
      "|     trans|transmission|\n",
      "+----------+------------+\n",
      "|  auto(l5)|        auto|\n",
      "|manual(m5)|      manual|\n",
      "|manual(m6)|      manual|\n",
      "|  auto(av)|        auto|\n",
      "|  auto(l5)|        auto|\n",
      "|manual(m5)|      manual|\n",
      "|  auto(av)|        auto|\n",
      "|manual(m5)|      manual|\n",
      "|  auto(l5)|        auto|\n",
      "|manual(m6)|      manual|\n",
      "|  auto(s6)|        auto|\n",
      "|  auto(l5)|        auto|\n",
      "|manual(m5)|      manual|\n",
      "|  auto(s6)|        auto|\n",
      "|manual(m6)|      manual|\n",
      "|  auto(l5)|        auto|\n",
      "|  auto(s6)|        auto|\n",
      "|  auto(s6)|        auto|\n",
      "|  auto(l4)|        auto|\n",
      "|  auto(l4)|        auto|\n",
      "+----------+------------+\n",
      "only showing top 20 rows\n",
      "\n"
     ]
    }
   ],
   "source": [
    "df.select(df.trans,\n",
    "         when(df.trans.like('auto%'), 'auto')\n",
    "         .otherwise('manual')\n",
    "         .alias('transmission')\n",
    "         ).show()"
   ]
  },
  {
   "cell_type": "markdown",
   "metadata": {},
   "source": [
    "### 3. Load the tips dataset as a spark dataframe."
   ]
  },
  {
   "cell_type": "code",
   "execution_count": 14,
   "metadata": {
    "ExecuteTime": {
     "end_time": "2021-05-13T14:55:15.711169Z",
     "start_time": "2021-05-13T14:55:15.122296Z"
    }
   },
   "outputs": [
    {
     "name": "stdout",
     "output_type": "stream",
     "text": [
      "+----------+----+------+------+---+------+----+\n",
      "|total_bill| tip|   sex|smoker|day|  time|size|\n",
      "+----------+----+------+------+---+------+----+\n",
      "|     16.99|1.01|Female|    No|Sun|Dinner|   2|\n",
      "|     10.34|1.66|  Male|    No|Sun|Dinner|   3|\n",
      "|     21.01| 3.5|  Male|    No|Sun|Dinner|   3|\n",
      "|     23.68|3.31|  Male|    No|Sun|Dinner|   2|\n",
      "|     24.59|3.61|Female|    No|Sun|Dinner|   4|\n",
      "+----------+----+------+------+---+------+----+\n",
      "only showing top 5 rows\n",
      "\n"
     ]
    }
   ],
   "source": [
    "tips = data('tips')\n",
    "df = spark.createDataFrame(tips)\n",
    "df.show(5)"
   ]
  },
  {
   "cell_type": "markdown",
   "metadata": {},
   "source": [
    "- a. What percentage of observations are smokers?"
   ]
  },
  {
   "cell_type": "code",
   "execution_count": 15,
   "metadata": {
    "ExecuteTime": {
     "end_time": "2021-05-13T14:55:16.300200Z",
     "start_time": "2021-05-13T14:55:15.731313Z"
    }
   },
   "outputs": [
    {
     "data": {
      "text/plain": [
       "(244, 7)"
      ]
     },
     "execution_count": 15,
     "metadata": {},
     "output_type": "execute_result"
    }
   ],
   "source": [
    "df.toPandas().shape"
   ]
  },
  {
   "cell_type": "code",
   "execution_count": 16,
   "metadata": {
    "ExecuteTime": {
     "end_time": "2021-05-13T14:55:18.016771Z",
     "start_time": "2021-05-13T14:55:16.306628Z"
    }
   },
   "outputs": [
    {
     "data": {
      "text/plain": [
       "38.114754098360656"
      ]
     },
     "execution_count": 16,
     "metadata": {},
     "output_type": "execute_result"
    }
   ],
   "source": [
    "(df.where(df.smoker == 'Yes').count()) / (df.toPandas().shape[0]) * 100"
   ]
  },
  {
   "cell_type": "markdown",
   "metadata": {},
   "source": [
    "- b. Create a column that contains the tip percentage"
   ]
  },
  {
   "cell_type": "code",
   "execution_count": 17,
   "metadata": {
    "ExecuteTime": {
     "end_time": "2021-05-13T14:55:18.348250Z",
     "start_time": "2021-05-13T14:55:18.031217Z"
    }
   },
   "outputs": [
    {
     "name": "stdout",
     "output_type": "stream",
     "text": [
      "+-------------------+\n",
      "|     tip_percentage|\n",
      "+-------------------+\n",
      "|0.05944673337257211|\n",
      "|0.16054158607350097|\n",
      "|0.16658733936220846|\n",
      "| 0.1397804054054054|\n",
      "|0.14680764538430255|\n",
      "|0.18623962040332148|\n",
      "|0.22805017103762829|\n",
      "|0.11607142857142858|\n",
      "|0.13031914893617022|\n",
      "| 0.2185385656292287|\n",
      "| 0.1665043816942551|\n",
      "|0.14180374361883155|\n",
      "|0.10181582360570687|\n",
      "|0.16277807921866522|\n",
      "|0.20364126770060686|\n",
      "|0.18164967562557924|\n",
      "| 0.1616650532429816|\n",
      "|0.22774708410067526|\n",
      "|0.20624631703005306|\n",
      "|0.16222760290556903|\n",
      "+-------------------+\n",
      "only showing top 20 rows\n",
      "\n"
     ]
    }
   ],
   "source": [
    "df.select(\n",
    "    (df.tip / df.total_bill)\n",
    "    .alias('tip_percentage')\n",
    ").show()"
   ]
  },
  {
   "cell_type": "markdown",
   "metadata": {},
   "source": [
    "- c. Calculate the average tip percentage for each combination of sex and smoker."
   ]
  },
  {
   "cell_type": "code",
   "execution_count": 18,
   "metadata": {
    "ExecuteTime": {
     "end_time": "2021-05-13T14:55:18.404370Z",
     "start_time": "2021-05-13T14:55:18.360112Z"
    }
   },
   "outputs": [],
   "source": [
    "col1 = df.select((df.tip / df.total_bill).alias('tip_percentage'))"
   ]
  },
  {
   "cell_type": "code",
   "execution_count": 19,
   "metadata": {
    "ExecuteTime": {
     "end_time": "2021-05-13T14:55:18.632251Z",
     "start_time": "2021-05-13T14:55:18.412785Z"
    },
    "scrolled": true
   },
   "outputs": [
    {
     "name": "stdout",
     "output_type": "stream",
     "text": [
      "+-------------------+\n",
      "|     tip_percentage|\n",
      "+-------------------+\n",
      "|0.05944673337257211|\n",
      "|0.16054158607350097|\n",
      "|0.16658733936220846|\n",
      "| 0.1397804054054054|\n",
      "|0.14680764538430255|\n",
      "|0.18623962040332148|\n",
      "|0.22805017103762829|\n",
      "|0.11607142857142858|\n",
      "|0.13031914893617022|\n",
      "| 0.2185385656292287|\n",
      "| 0.1665043816942551|\n",
      "|0.14180374361883155|\n",
      "|0.10181582360570687|\n",
      "|0.16277807921866522|\n",
      "|0.20364126770060686|\n",
      "|0.18164967562557924|\n",
      "| 0.1616650532429816|\n",
      "|0.22774708410067526|\n",
      "|0.20624631703005306|\n",
      "|0.16222760290556903|\n",
      "+-------------------+\n",
      "only showing top 20 rows\n",
      "\n"
     ]
    }
   ],
   "source": [
    "col1.show()"
   ]
  },
  {
   "cell_type": "code",
   "execution_count": 20,
   "metadata": {
    "ExecuteTime": {
     "end_time": "2021-05-13T14:55:26.655852Z",
     "start_time": "2021-05-13T14:55:18.643597Z"
    }
   },
   "outputs": [
    {
     "name": "stdout",
     "output_type": "stream",
     "text": [
      "+------+------+-------------------------------------------+\n",
      "|   sex|smoker|avg((tip / total_bill) AS `tip_percentage`)|\n",
      "+------+------+-------------------------------------------+\n",
      "|  Male|    No|                         0.1606687151291298|\n",
      "|  Male|   Yes|                         0.1527711752024851|\n",
      "|Female|    No|                         0.1569209707691836|\n",
      "|Female|   Yes|                        0.18215035269941035|\n",
      "+------+------+-------------------------------------------+\n",
      "\n"
     ]
    }
   ],
   "source": [
    "df.groupBy('sex','smoker').agg(mean((df.tip / df.total_bill).alias('tip_percentage'))).show()"
   ]
  },
  {
   "cell_type": "markdown",
   "metadata": {},
   "source": [
    "### 4. Use the seattle weather dataset referenced in the lesson to answer the questions below."
   ]
  },
  {
   "cell_type": "code",
   "execution_count": 21,
   "metadata": {
    "ExecuteTime": {
     "end_time": "2021-05-13T14:55:27.747044Z",
     "start_time": "2021-05-13T14:55:26.664937Z"
    }
   },
   "outputs": [
    {
     "name": "stdout",
     "output_type": "stream",
     "text": [
      "+----------+-------------+--------+--------+----+-------+\n",
      "|      date|precipitation|temp_max|temp_min|wind|weather|\n",
      "+----------+-------------+--------+--------+----+-------+\n",
      "|2012-01-01|          0.0|    12.8|     5.0| 4.7|drizzle|\n",
      "|2012-01-02|         10.9|    10.6|     2.8| 4.5|   rain|\n",
      "|2012-01-03|          0.8|    11.7|     7.2| 2.3|   rain|\n",
      "|2012-01-04|         20.3|    12.2|     5.6| 4.7|   rain|\n",
      "|2012-01-05|          1.3|     8.9|     2.8| 6.1|   rain|\n",
      "|2012-01-06|          2.5|     4.4|     2.2| 2.2|   rain|\n",
      "+----------+-------------+--------+--------+----+-------+\n",
      "only showing top 6 rows\n",
      "\n"
     ]
    }
   ],
   "source": [
    "from vega_datasets import data\n",
    "\n",
    "weather = data.seattle_weather().assign(date=lambda df: df.date.astype(str))\n",
    "weather = spark.createDataFrame(weather)\n",
    "weather.show(6)"
   ]
  },
  {
   "cell_type": "markdown",
   "metadata": {},
   "source": [
    "- Convert the temperatures to farenheight.\n",
    "celsius * 1.8 = fahrenheit - 32"
   ]
  },
  {
   "cell_type": "code",
   "execution_count": 22,
   "metadata": {
    "ExecuteTime": {
     "end_time": "2021-05-13T14:55:27.820554Z",
     "start_time": "2021-05-13T14:55:27.797522Z"
    }
   },
   "outputs": [],
   "source": [
    "def fahrenheit(celsius):\n",
    "    f = celsius * 1.8 + 32\n",
    "    return f    "
   ]
  },
  {
   "cell_type": "code",
   "execution_count": 23,
   "metadata": {
    "ExecuteTime": {
     "end_time": "2021-05-13T14:55:28.564066Z",
     "start_time": "2021-05-13T14:55:27.862092Z"
    }
   },
   "outputs": [
    {
     "name": "stdout",
     "output_type": "stream",
     "text": [
      "+----------+-------------+--------+--------+----+-------+------------------+------------------+\n",
      "|      date|precipitation|temp_max|temp_min|wind|weather|        temp_max_f|        temp_min_f|\n",
      "+----------+-------------+--------+--------+----+-------+------------------+------------------+\n",
      "|2012-01-01|          0.0|    12.8|     5.0| 4.7|drizzle|55.040000000000006|              41.0|\n",
      "|2012-01-02|         10.9|    10.6|     2.8| 4.5|   rain|             51.08|             37.04|\n",
      "|2012-01-03|          0.8|    11.7|     7.2| 2.3|   rain|             53.06|             44.96|\n",
      "|2012-01-04|         20.3|    12.2|     5.6| 4.7|   rain|             53.96|             42.08|\n",
      "|2012-01-05|          1.3|     8.9|     2.8| 6.1|   rain|48.019999999999996|             37.04|\n",
      "|2012-01-06|          2.5|     4.4|     2.2| 2.2|   rain|             39.92|             35.96|\n",
      "|2012-01-07|          0.0|     7.2|     2.8| 2.3|   rain|             44.96|             37.04|\n",
      "|2012-01-08|          0.0|    10.0|     2.8| 2.0|    sun|              50.0|             37.04|\n",
      "|2012-01-09|          4.3|     9.4|     5.0| 3.4|   rain|             48.92|              41.0|\n",
      "|2012-01-10|          1.0|     6.1|     0.6| 3.4|   rain|42.980000000000004|             33.08|\n",
      "|2012-01-11|          0.0|     6.1|    -1.1| 5.1|    sun|42.980000000000004|             30.02|\n",
      "|2012-01-12|          0.0|     6.1|    -1.7| 1.9|    sun|42.980000000000004|             28.94|\n",
      "|2012-01-13|          0.0|     5.0|    -2.8| 1.3|    sun|              41.0|             26.96|\n",
      "|2012-01-14|          4.1|     4.4|     0.6| 5.3|   snow|             39.92|             33.08|\n",
      "|2012-01-15|          5.3|     1.1|    -3.3| 3.2|   snow|             33.98|26.060000000000002|\n",
      "|2012-01-16|          2.5|     1.7|    -2.8| 5.0|   snow|             35.06|             26.96|\n",
      "|2012-01-17|          8.1|     3.3|     0.0| 5.6|   snow|             37.94|              32.0|\n",
      "|2012-01-18|         19.8|     0.0|    -2.8| 5.0|   snow|              32.0|             26.96|\n",
      "|2012-01-19|         15.2|    -1.1|    -2.8| 1.6|   snow|             30.02|             26.96|\n",
      "|2012-01-20|         13.5|     7.2|    -1.1| 2.3|   snow|             44.96|             30.02|\n",
      "+----------+-------------+--------+--------+----+-------+------------------+------------------+\n",
      "only showing top 20 rows\n",
      "\n"
     ]
    }
   ],
   "source": [
    "weather.select('*',fahrenheit(weather.temp_max).alias('temp_max_f'),fahrenheit(weather.temp_min).alias('temp_min_f')).show()"
   ]
  },
  {
   "cell_type": "markdown",
   "metadata": {},
   "source": [
    "- Which month has the most rain, on average?"
   ]
  },
  {
   "cell_type": "code",
   "execution_count": 24,
   "metadata": {
    "ExecuteTime": {
     "end_time": "2021-05-13T14:55:28.583480Z",
     "start_time": "2021-05-13T14:55:28.574955Z"
    }
   },
   "outputs": [],
   "source": [
    "from pyspark.sql.functions import month, year, quarter"
   ]
  },
  {
   "cell_type": "code",
   "execution_count": 25,
   "metadata": {
    "ExecuteTime": {
     "end_time": "2021-05-13T14:55:29.024872Z",
     "start_time": "2021-05-13T14:55:28.601141Z"
    }
   },
   "outputs": [
    {
     "name": "stdout",
     "output_type": "stream",
     "text": [
      "+----------+-------------+--------+--------+----+-------+\n",
      "|      date|precipitation|temp_max|temp_min|wind|weather|\n",
      "+----------+-------------+--------+--------+----+-------+\n",
      "|2012-01-02|         10.9|    10.6|     2.8| 4.5|   rain|\n",
      "|2012-01-03|          0.8|    11.7|     7.2| 2.3|   rain|\n",
      "|2012-01-04|         20.3|    12.2|     5.6| 4.7|   rain|\n",
      "|2012-01-05|          1.3|     8.9|     2.8| 6.1|   rain|\n",
      "|2012-01-06|          2.5|     4.4|     2.2| 2.2|   rain|\n",
      "|2012-01-07|          0.0|     7.2|     2.8| 2.3|   rain|\n",
      "|2012-01-09|          4.3|     9.4|     5.0| 3.4|   rain|\n",
      "|2012-01-10|          1.0|     6.1|     0.6| 3.4|   rain|\n",
      "|2012-01-21|          3.0|     8.3|     3.3| 8.2|   rain|\n",
      "|2012-01-22|          6.1|     6.7|     2.2| 4.8|   rain|\n",
      "|2012-01-23|          0.0|     8.3|     1.1| 3.6|   rain|\n",
      "|2012-01-24|          8.6|    10.0|     2.2| 5.1|   rain|\n",
      "|2012-01-25|          8.1|     8.9|     4.4| 5.4|   rain|\n",
      "|2012-01-26|          4.8|     8.9|     1.1| 4.8|   rain|\n",
      "|2012-01-28|          0.0|     6.7|     0.6| 2.2|   rain|\n",
      "|2012-01-29|         27.7|     9.4|     3.9| 4.5|   rain|\n",
      "|2012-01-30|          3.6|     8.3|     6.1| 5.1|   rain|\n",
      "|2012-01-31|          1.8|     9.4|     6.1| 3.9|   rain|\n",
      "|2012-02-01|         13.5|     8.9|     3.3| 2.7|   rain|\n",
      "|2012-02-07|          0.3|    15.6|     7.8| 5.3|   rain|\n",
      "+----------+-------------+--------+--------+----+-------+\n",
      "only showing top 20 rows\n",
      "\n"
     ]
    }
   ],
   "source": [
    "rain = weather.where(weather['weather'] == 'rain')\n",
    "rain.show()"
   ]
  },
  {
   "cell_type": "code",
   "execution_count": 26,
   "metadata": {
    "ExecuteTime": {
     "end_time": "2021-05-13T14:55:34.188985Z",
     "start_time": "2021-05-13T14:55:29.047440Z"
    }
   },
   "outputs": [
    {
     "name": "stdout",
     "output_type": "stream",
     "text": [
      "+-----+-------------------+\n",
      "|month|     total_rainfall|\n",
      "+-----+-------------------+\n",
      "|   10|              9.675|\n",
      "|   11|               8.42|\n",
      "|    1|  6.614285714285714|\n",
      "|    8|  6.433333333333334|\n",
      "|   12| 5.0260869565217385|\n",
      "|    3|  4.921621621621622|\n",
      "|    6|  3.952631578947368|\n",
      "|    4|  3.429999999999999|\n",
      "|    5| 3.2624999999999997|\n",
      "|    2| 3.1725000000000003|\n",
      "|    7| 1.8785714285714286|\n",
      "|    9|0.22499999999999998|\n",
      "+-----+-------------------+\n",
      "\n"
     ]
    }
   ],
   "source": [
    "(\n",
    "    rain.withColumn(\"month\", month(\"date\"))\n",
    "    .groupBy(\"month\")\n",
    "    .agg(mean(\"precipitation\").alias(\"total_rainfall\"))\n",
    "    .sort(desc('total_rainfall'))\n",
    "    .show()\n",
    ")"
   ]
  },
  {
   "cell_type": "markdown",
   "metadata": {},
   "source": [
    "- Which year was the windiest?"
   ]
  },
  {
   "cell_type": "code",
   "execution_count": 27,
   "metadata": {
    "ExecuteTime": {
     "end_time": "2021-05-13T14:55:37.314387Z",
     "start_time": "2021-05-13T14:55:34.203378Z"
    }
   },
   "outputs": [
    {
     "name": "stdout",
     "output_type": "stream",
     "text": [
      "+----+------------------+\n",
      "|year|        total_wind|\n",
      "+----+------------------+\n",
      "|2012|1244.6999999999998|\n",
      "|2014|1236.5000000000005|\n",
      "|2015|            1153.3|\n",
      "|2013|1100.8000000000002|\n",
      "+----+------------------+\n",
      "\n"
     ]
    }
   ],
   "source": [
    "(\n",
    "   weather.withColumn(\"year\", year(\"date\"))\n",
    "    .groupBy(\"year\")\n",
    "    .agg(sum(\"wind\").alias(\"total_wind\"))\n",
    "    .sort(desc('total_wind'))\n",
    "    .show()\n",
    ")"
   ]
  },
  {
   "cell_type": "markdown",
   "metadata": {},
   "source": [
    "- What is the most frequent type of weather in January?"
   ]
  },
  {
   "cell_type": "code",
   "execution_count": 28,
   "metadata": {
    "ExecuteTime": {
     "end_time": "2021-05-13T14:55:37.716111Z",
     "start_time": "2021-05-13T14:55:37.328796Z"
    }
   },
   "outputs": [
    {
     "name": "stdout",
     "output_type": "stream",
     "text": [
      "+----------+-------------+--------+--------+----+-------+\n",
      "|      date|precipitation|temp_max|temp_min|wind|weather|\n",
      "+----------+-------------+--------+--------+----+-------+\n",
      "|2012-01-01|          0.0|    12.8|     5.0| 4.7|drizzle|\n",
      "|2012-01-02|         10.9|    10.6|     2.8| 4.5|   rain|\n",
      "|2012-01-03|          0.8|    11.7|     7.2| 2.3|   rain|\n",
      "|2012-01-04|         20.3|    12.2|     5.6| 4.7|   rain|\n",
      "|2012-01-05|          1.3|     8.9|     2.8| 6.1|   rain|\n",
      "|2012-01-06|          2.5|     4.4|     2.2| 2.2|   rain|\n",
      "|2012-01-07|          0.0|     7.2|     2.8| 2.3|   rain|\n",
      "|2012-01-08|          0.0|    10.0|     2.8| 2.0|    sun|\n",
      "|2012-01-09|          4.3|     9.4|     5.0| 3.4|   rain|\n",
      "|2012-01-10|          1.0|     6.1|     0.6| 3.4|   rain|\n",
      "|2012-01-11|          0.0|     6.1|    -1.1| 5.1|    sun|\n",
      "|2012-01-12|          0.0|     6.1|    -1.7| 1.9|    sun|\n",
      "|2012-01-13|          0.0|     5.0|    -2.8| 1.3|    sun|\n",
      "|2012-01-14|          4.1|     4.4|     0.6| 5.3|   snow|\n",
      "|2012-01-15|          5.3|     1.1|    -3.3| 3.2|   snow|\n",
      "|2012-01-16|          2.5|     1.7|    -2.8| 5.0|   snow|\n",
      "|2012-01-17|          8.1|     3.3|     0.0| 5.6|   snow|\n",
      "|2012-01-18|         19.8|     0.0|    -2.8| 5.0|   snow|\n",
      "|2012-01-19|         15.2|    -1.1|    -2.8| 1.6|   snow|\n",
      "|2012-01-20|         13.5|     7.2|    -1.1| 2.3|   snow|\n",
      "+----------+-------------+--------+--------+----+-------+\n",
      "only showing top 20 rows\n",
      "\n"
     ]
    }
   ],
   "source": [
    "jan = weather.where(month(weather.date) == '01')\n",
    "jan.show()"
   ]
  },
  {
   "cell_type": "code",
   "execution_count": 29,
   "metadata": {
    "ExecuteTime": {
     "end_time": "2021-05-13T14:55:38.478325Z",
     "start_time": "2021-05-13T14:55:37.725119Z"
    }
   },
   "outputs": [
    {
     "data": {
      "text/plain": [
       "(124, 1461)"
      ]
     },
     "execution_count": 29,
     "metadata": {},
     "output_type": "execute_result"
    }
   ],
   "source": [
    "jan.count(), weather.count()"
   ]
  },
  {
   "cell_type": "code",
   "execution_count": 30,
   "metadata": {
    "ExecuteTime": {
     "end_time": "2021-05-13T14:55:42.590709Z",
     "start_time": "2021-05-13T14:55:38.484718Z"
    }
   },
   "outputs": [
    {
     "name": "stdout",
     "output_type": "stream",
     "text": [
      "+---------------+-----+\n",
      "|January_weather|count|\n",
      "+---------------+-----+\n",
      "|            fog|   38|\n",
      "|           rain|   35|\n",
      "|            sun|   33|\n",
      "|        drizzle|   10|\n",
      "|           snow|    8|\n",
      "+---------------+-----+\n",
      "\n"
     ]
    }
   ],
   "source": [
    "(\n",
    "    jan.withColumn('month', month('date'))\n",
    "    .groupBy(jan.weather.alias('January_weather'))\n",
    "    .count()\n",
    "    .sort(desc('count'))\n",
    "    .show()\n",
    ")"
   ]
  },
  {
   "cell_type": "markdown",
   "metadata": {},
   "source": [
    "- What is the average high and low temperature on sunny days in July in 2013 and 2014?"
   ]
  },
  {
   "cell_type": "code",
   "execution_count": 31,
   "metadata": {
    "ExecuteTime": {
     "end_time": "2021-05-13T14:55:43.104183Z",
     "start_time": "2021-05-13T14:55:42.595704Z"
    }
   },
   "outputs": [
    {
     "name": "stdout",
     "output_type": "stream",
     "text": [
      "+----------+-------------+--------+--------+----+-------+-------+----+-----+\n",
      "|      date|precipitation|temp_max|temp_min|wind|weather|quarter|year|month|\n",
      "+----------+-------------+--------+--------+----+-------+-------+----+-----+\n",
      "|2012-01-01|          0.0|    12.8|     5.0| 4.7|drizzle|      1|2012|    1|\n",
      "|2012-01-02|         10.9|    10.6|     2.8| 4.5|   rain|      1|2012|    1|\n",
      "|2012-01-03|          0.8|    11.7|     7.2| 2.3|   rain|      1|2012|    1|\n",
      "|2012-01-04|         20.3|    12.2|     5.6| 4.7|   rain|      1|2012|    1|\n",
      "|2012-01-05|          1.3|     8.9|     2.8| 6.1|   rain|      1|2012|    1|\n",
      "|2012-01-06|          2.5|     4.4|     2.2| 2.2|   rain|      1|2012|    1|\n",
      "|2012-01-07|          0.0|     7.2|     2.8| 2.3|   rain|      1|2012|    1|\n",
      "|2012-01-08|          0.0|    10.0|     2.8| 2.0|    sun|      1|2012|    1|\n",
      "|2012-01-09|          4.3|     9.4|     5.0| 3.4|   rain|      1|2012|    1|\n",
      "|2012-01-10|          1.0|     6.1|     0.6| 3.4|   rain|      1|2012|    1|\n",
      "|2012-01-11|          0.0|     6.1|    -1.1| 5.1|    sun|      1|2012|    1|\n",
      "|2012-01-12|          0.0|     6.1|    -1.7| 1.9|    sun|      1|2012|    1|\n",
      "|2012-01-13|          0.0|     5.0|    -2.8| 1.3|    sun|      1|2012|    1|\n",
      "|2012-01-14|          4.1|     4.4|     0.6| 5.3|   snow|      1|2012|    1|\n",
      "|2012-01-15|          5.3|     1.1|    -3.3| 3.2|   snow|      1|2012|    1|\n",
      "|2012-01-16|          2.5|     1.7|    -2.8| 5.0|   snow|      1|2012|    1|\n",
      "|2012-01-17|          8.1|     3.3|     0.0| 5.6|   snow|      1|2012|    1|\n",
      "|2012-01-18|         19.8|     0.0|    -2.8| 5.0|   snow|      1|2012|    1|\n",
      "|2012-01-19|         15.2|    -1.1|    -2.8| 1.6|   snow|      1|2012|    1|\n",
      "|2012-01-20|         13.5|     7.2|    -1.1| 2.3|   snow|      1|2012|    1|\n",
      "+----------+-------------+--------+--------+----+-------+-------+----+-----+\n",
      "only showing top 20 rows\n",
      "\n"
     ]
    }
   ],
   "source": [
    "weather = weather.withColumn('quarter',quarter('date')).withColumn('year',year('date')).withColumn('month',month('date'))\n",
    "weather.show()"
   ]
  },
  {
   "cell_type": "code",
   "execution_count": 32,
   "metadata": {
    "ExecuteTime": {
     "end_time": "2021-05-13T14:55:43.716793Z",
     "start_time": "2021-05-13T14:55:43.111661Z"
    }
   },
   "outputs": [
    {
     "name": "stdout",
     "output_type": "stream",
     "text": [
      "+----------+-------------+--------+--------+----+-------+-------+----+-----+\n",
      "|      date|precipitation|temp_max|temp_min|wind|weather|quarter|year|month|\n",
      "+----------+-------------+--------+--------+----+-------+-------+----+-----+\n",
      "|2013-07-01|          0.0|    31.7|    18.3| 2.3|    sun|      3|2013|    7|\n",
      "|2013-07-02|          0.0|    28.3|    15.6| 3.0|    sun|      3|2013|    7|\n",
      "|2013-07-03|          0.0|    26.1|    16.7| 3.2|    sun|      3|2013|    7|\n",
      "|2013-07-05|          0.0|    23.3|    13.9| 2.6|    sun|      3|2013|    7|\n",
      "|2013-07-06|          0.0|    26.1|    13.3| 2.2|    sun|      3|2013|    7|\n",
      "|2013-07-07|          0.0|    23.9|    13.9| 2.9|    sun|      3|2013|    7|\n",
      "|2013-07-08|          0.0|    26.7|    13.3| 2.8|    sun|      3|2013|    7|\n",
      "|2013-07-09|          0.0|    30.0|    15.0| 2.5|    sun|      3|2013|    7|\n",
      "|2013-07-10|          0.0|    22.2|    13.9| 2.6|    sun|      3|2013|    7|\n",
      "|2013-07-11|          0.0|    22.8|    12.2| 3.0|    sun|      3|2013|    7|\n",
      "|2013-07-12|          0.0|    19.4|    13.3| 2.2|    sun|      3|2013|    7|\n",
      "|2013-07-13|          0.0|    26.1|    11.1| 3.1|    sun|      3|2013|    7|\n",
      "|2013-07-14|          0.0|    27.8|    12.8| 3.0|    sun|      3|2013|    7|\n",
      "|2013-07-15|          0.0|    27.8|    14.4| 4.6|    sun|      3|2013|    7|\n",
      "|2013-07-16|          0.0|    31.1|    18.3| 4.1|    sun|      3|2013|    7|\n",
      "|2013-07-18|          0.0|    26.1|    13.9| 2.0|    sun|      3|2013|    7|\n",
      "|2013-07-19|          0.0|    27.8|    13.3| 1.9|    sun|      3|2013|    7|\n",
      "|2013-07-20|          0.0|    25.0|    13.3| 2.0|    sun|      3|2013|    7|\n",
      "|2013-07-21|          0.0|    23.9|    12.8| 2.3|    sun|      3|2013|    7|\n",
      "|2013-07-23|          0.0|    31.1|    13.9| 3.0|    sun|      3|2013|    7|\n",
      "+----------+-------------+--------+--------+----+-------+-------+----+-----+\n",
      "only showing top 20 rows\n",
      "\n"
     ]
    }
   ],
   "source": [
    "sunny_jul = weather.where(month(weather.date) == '07').where(weather.weather == 'sun').where((year(weather.date) == '2013') | (year(weather.date) == '2014'))\n",
    "sunny_jul.show()"
   ]
  },
  {
   "cell_type": "code",
   "execution_count": 33,
   "metadata": {
    "ExecuteTime": {
     "end_time": "2021-05-13T14:55:47.522132Z",
     "start_time": "2021-05-13T14:55:43.729700Z"
    }
   },
   "outputs": [
    {
     "name": "stdout",
     "output_type": "stream",
     "text": [
      "+-----+-----------------+------------------+\n",
      "|month|    avg(temp_min)|     avg(temp_max)|\n",
      "+-----+-----------------+------------------+\n",
      "|    7|14.18269230769231|26.828846153846158|\n",
      "+-----+-----------------+------------------+\n",
      "\n"
     ]
    }
   ],
   "source": [
    "sunny_jul.groupBy('month').agg(mean('temp_min'),mean('temp_max')).show()"
   ]
  },
  {
   "cell_type": "markdown",
   "metadata": {},
   "source": [
    "- What percentage of days were rainy in q3 of 2015?"
   ]
  },
  {
   "cell_type": "code",
   "execution_count": 34,
   "metadata": {
    "ExecuteTime": {
     "end_time": "2021-05-13T14:55:47.934139Z",
     "start_time": "2021-05-13T14:55:47.530849Z"
    }
   },
   "outputs": [
    {
     "name": "stdout",
     "output_type": "stream",
     "text": [
      "+----------+-------------+--------+--------+----+-------+-------+----+-----+\n",
      "|      date|precipitation|temp_max|temp_min|wind|weather|quarter|year|month|\n",
      "+----------+-------------+--------+--------+----+-------+-------+----+-----+\n",
      "|2015-07-01|          0.0|    32.2|    17.2| 4.3|    sun|      3|2015|    7|\n",
      "|2015-07-02|          0.0|    33.9|    17.8| 3.4|    sun|      3|2015|    7|\n",
      "|2015-07-03|          0.0|    33.3|    17.8| 2.6|    sun|      3|2015|    7|\n",
      "|2015-07-04|          0.0|    33.3|    15.0| 2.9|    sun|      3|2015|    7|\n",
      "|2015-07-05|          0.0|    32.8|    16.7| 2.1|    sun|      3|2015|    7|\n",
      "|2015-07-06|          0.0|    29.4|    15.6| 3.2|drizzle|      3|2015|    7|\n",
      "|2015-07-07|          0.0|    27.2|    13.9| 2.4|    sun|      3|2015|    7|\n",
      "|2015-07-08|          0.0|    30.0|    14.4| 1.9|drizzle|      3|2015|    7|\n",
      "|2015-07-09|          0.0|    28.9|    14.4| 3.4|    sun|      3|2015|    7|\n",
      "|2015-07-10|          0.0|    21.1|    16.7| 3.7|    sun|      3|2015|    7|\n",
      "|2015-07-11|          0.0|    22.2|    16.7| 3.0|    sun|      3|2015|    7|\n",
      "|2015-07-12|          0.0|    26.1|    16.7| 2.2|    sun|      3|2015|    7|\n",
      "|2015-07-13|          0.0|    25.6|    16.1| 3.1|    sun|      3|2015|    7|\n",
      "|2015-07-14|          0.0|    27.8|    16.1| 3.3|    sun|      3|2015|    7|\n",
      "|2015-07-15|          0.0|    26.1|    14.4| 3.2|    sun|      3|2015|    7|\n",
      "|2015-07-16|          0.0|    26.1|    15.0| 2.8|    sun|      3|2015|    7|\n",
      "|2015-07-17|          0.0|    27.8|    13.9| 3.3|    sun|      3|2015|    7|\n",
      "|2015-07-18|          0.0|    33.3|    17.8| 3.4|    sun|      3|2015|    7|\n",
      "|2015-07-19|          0.0|    35.0|    17.2| 3.3|    sun|      3|2015|    7|\n",
      "|2015-07-20|          0.0|    26.7|    16.7| 3.9|    sun|      3|2015|    7|\n",
      "+----------+-------------+--------+--------+----+-------+-------+----+-----+\n",
      "only showing top 20 rows\n",
      "\n"
     ]
    }
   ],
   "source": [
    "q3_2015 = weather.where((weather.quarter == 3) & (weather.year == '2015'))\n",
    "q3_2015.show()"
   ]
  },
  {
   "cell_type": "code",
   "execution_count": 35,
   "metadata": {
    "ExecuteTime": {
     "end_time": "2021-05-13T14:55:48.265296Z",
     "start_time": "2021-05-13T14:55:47.939854Z"
    }
   },
   "outputs": [
    {
     "data": {
      "text/plain": [
       "92"
      ]
     },
     "execution_count": 35,
     "metadata": {},
     "output_type": "execute_result"
    }
   ],
   "source": [
    "q3_2015.count()"
   ]
  },
  {
   "cell_type": "code",
   "execution_count": 36,
   "metadata": {
    "ExecuteTime": {
     "end_time": "2021-05-13T14:55:48.842624Z",
     "start_time": "2021-05-13T14:55:48.270464Z"
    }
   },
   "outputs": [
    {
     "data": {
      "text/plain": [
       "2.1739130434782608"
      ]
     },
     "execution_count": 36,
     "metadata": {},
     "output_type": "execute_result"
    }
   ],
   "source": [
    "(q3_2015.where(q3_2015.weather == 'rain').count()) / q3_2015.count() * 100"
   ]
  },
  {
   "cell_type": "markdown",
   "metadata": {},
   "source": [
    "- For each year, find what percentage of days it rained (had non-zero precipitation)."
   ]
  },
  {
   "cell_type": "code",
   "execution_count": 37,
   "metadata": {
    "ExecuteTime": {
     "end_time": "2021-05-13T14:55:48.854729Z",
     "start_time": "2021-05-13T14:55:48.848398Z"
    }
   },
   "outputs": [],
   "source": [
    "from pyspark.sql.functions import expr"
   ]
  },
  {
   "cell_type": "code",
   "execution_count": 38,
   "metadata": {
    "ExecuteTime": {
     "end_time": "2021-05-13T14:55:50.823769Z",
     "start_time": "2021-05-13T14:55:48.861782Z"
    }
   },
   "outputs": [
    {
     "name": "stdout",
     "output_type": "stream",
     "text": [
      "+----+-----+\n",
      "|year|count|\n",
      "+----+-----+\n",
      "|2015|  365|\n",
      "|2013|  365|\n",
      "|2014|  365|\n",
      "|2012|  366|\n",
      "+----+-----+\n",
      "\n"
     ]
    }
   ],
   "source": [
    "weather.groupBy('year').count().show()"
   ]
  },
  {
   "cell_type": "code",
   "execution_count": 39,
   "metadata": {
    "ExecuteTime": {
     "end_time": "2021-05-13T14:55:50.848755Z",
     "start_time": "2021-05-13T14:55:50.830241Z"
    }
   },
   "outputs": [
    {
     "data": {
      "text/plain": [
       "[2012, 2013, 2014, 2015]"
      ]
     },
     "execution_count": 39,
     "metadata": {},
     "output_type": "execute_result"
    }
   ],
   "source": [
    "year_list = list(range(2012,2016))\n",
    "year_list"
   ]
  },
  {
   "cell_type": "code",
   "execution_count": 40,
   "metadata": {
    "ExecuteTime": {
     "end_time": "2021-05-13T14:55:50.862570Z",
     "start_time": "2021-05-13T14:55:50.853213Z"
    }
   },
   "outputs": [
    {
     "data": {
      "text/plain": [
       "[('date', 'string'),\n",
       " ('precipitation', 'double'),\n",
       " ('temp_max', 'double'),\n",
       " ('temp_min', 'double'),\n",
       " ('wind', 'double'),\n",
       " ('weather', 'string'),\n",
       " ('quarter', 'int'),\n",
       " ('year', 'int'),\n",
       " ('month', 'int')]"
      ]
     },
     "execution_count": 40,
     "metadata": {},
     "output_type": "execute_result"
    }
   ],
   "source": [
    "weather.dtypes"
   ]
  },
  {
   "cell_type": "code",
   "execution_count": 41,
   "metadata": {
    "ExecuteTime": {
     "end_time": "2021-05-13T14:55:51.426133Z",
     "start_time": "2021-05-13T14:55:50.867816Z"
    }
   },
   "outputs": [
    {
     "data": {
      "text/plain": [
       "0.39452054794520547"
      ]
     },
     "execution_count": 41,
     "metadata": {},
     "output_type": "execute_result"
    }
   ],
   "source": [
    "weather.where((weather.precipitation > 0) & (weather.year == 2015)).count() / weather.where(weather.year == 2015).count()"
   ]
  },
  {
   "cell_type": "code",
   "execution_count": 42,
   "metadata": {
    "ExecuteTime": {
     "end_time": "2021-05-13T14:55:51.438895Z",
     "start_time": "2021-05-13T14:55:51.431283Z"
    }
   },
   "outputs": [],
   "source": [
    "def pct_rainy_days(year):\n",
    "    pct = round(weather.where((weather.precipitation > 0) & (weather.year == year)).count() / weather.where(weather.year == year).count(),2)\n",
    "    print('\\npercentage of rainy days in ',year,': ',pct) "
   ]
  },
  {
   "cell_type": "code",
   "execution_count": 43,
   "metadata": {
    "ExecuteTime": {
     "end_time": "2021-05-13T14:55:54.079879Z",
     "start_time": "2021-05-13T14:55:51.443796Z"
    }
   },
   "outputs": [
    {
     "name": "stdout",
     "output_type": "stream",
     "text": [
      "\n",
      "percentage of rainy days in  2012 :  0.48\n",
      "\n",
      "percentage of rainy days in  2013 :  0.42\n",
      "\n",
      "percentage of rainy days in  2014 :  0.41\n",
      "\n",
      "percentage of rainy days in  2015 :  0.39\n"
     ]
    },
    {
     "data": {
      "text/plain": [
       "[None, None, None, None]"
      ]
     },
     "execution_count": 43,
     "metadata": {},
     "output_type": "execute_result"
    }
   ],
   "source": [
    "[pct_rainy_days(year) for year in year_list]"
   ]
  },
  {
   "cell_type": "code",
   "execution_count": 44,
   "metadata": {
    "ExecuteTime": {
     "end_time": "2021-05-13T14:55:54.417775Z",
     "start_time": "2021-05-13T14:55:54.085015Z"
    }
   },
   "outputs": [],
   "source": [
    "weather_df = weather.toPandas()"
   ]
  },
  {
   "cell_type": "code",
   "execution_count": 45,
   "metadata": {
    "ExecuteTime": {
     "end_time": "2021-05-13T14:55:54.522275Z",
     "start_time": "2021-05-13T14:55:54.423974Z"
    }
   },
   "outputs": [
    {
     "data": {
      "text/html": [
       "<div>\n",
       "<style scoped>\n",
       "    .dataframe tbody tr th:only-of-type {\n",
       "        vertical-align: middle;\n",
       "    }\n",
       "\n",
       "    .dataframe tbody tr th {\n",
       "        vertical-align: top;\n",
       "    }\n",
       "\n",
       "    .dataframe thead th {\n",
       "        text-align: right;\n",
       "    }\n",
       "</style>\n",
       "<table border=\"1\" class=\"dataframe\">\n",
       "  <thead>\n",
       "    <tr style=\"text-align: right;\">\n",
       "      <th></th>\n",
       "      <th>date</th>\n",
       "      <th>precipitation</th>\n",
       "      <th>temp_max</th>\n",
       "      <th>temp_min</th>\n",
       "      <th>wind</th>\n",
       "      <th>weather</th>\n",
       "      <th>quarter</th>\n",
       "      <th>year</th>\n",
       "      <th>month</th>\n",
       "    </tr>\n",
       "  </thead>\n",
       "  <tbody>\n",
       "    <tr>\n",
       "      <th>1</th>\n",
       "      <td>2012-01-02</td>\n",
       "      <td>10.9</td>\n",
       "      <td>10.6</td>\n",
       "      <td>2.8</td>\n",
       "      <td>4.5</td>\n",
       "      <td>rain</td>\n",
       "      <td>1</td>\n",
       "      <td>2012</td>\n",
       "      <td>1</td>\n",
       "    </tr>\n",
       "    <tr>\n",
       "      <th>2</th>\n",
       "      <td>2012-01-03</td>\n",
       "      <td>0.8</td>\n",
       "      <td>11.7</td>\n",
       "      <td>7.2</td>\n",
       "      <td>2.3</td>\n",
       "      <td>rain</td>\n",
       "      <td>1</td>\n",
       "      <td>2012</td>\n",
       "      <td>1</td>\n",
       "    </tr>\n",
       "    <tr>\n",
       "      <th>3</th>\n",
       "      <td>2012-01-04</td>\n",
       "      <td>20.3</td>\n",
       "      <td>12.2</td>\n",
       "      <td>5.6</td>\n",
       "      <td>4.7</td>\n",
       "      <td>rain</td>\n",
       "      <td>1</td>\n",
       "      <td>2012</td>\n",
       "      <td>1</td>\n",
       "    </tr>\n",
       "    <tr>\n",
       "      <th>4</th>\n",
       "      <td>2012-01-05</td>\n",
       "      <td>1.3</td>\n",
       "      <td>8.9</td>\n",
       "      <td>2.8</td>\n",
       "      <td>6.1</td>\n",
       "      <td>rain</td>\n",
       "      <td>1</td>\n",
       "      <td>2012</td>\n",
       "      <td>1</td>\n",
       "    </tr>\n",
       "    <tr>\n",
       "      <th>5</th>\n",
       "      <td>2012-01-06</td>\n",
       "      <td>2.5</td>\n",
       "      <td>4.4</td>\n",
       "      <td>2.2</td>\n",
       "      <td>2.2</td>\n",
       "      <td>rain</td>\n",
       "      <td>1</td>\n",
       "      <td>2012</td>\n",
       "      <td>1</td>\n",
       "    </tr>\n",
       "    <tr>\n",
       "      <th>...</th>\n",
       "      <td>...</td>\n",
       "      <td>...</td>\n",
       "      <td>...</td>\n",
       "      <td>...</td>\n",
       "      <td>...</td>\n",
       "      <td>...</td>\n",
       "      <td>...</td>\n",
       "      <td>...</td>\n",
       "      <td>...</td>\n",
       "    </tr>\n",
       "    <tr>\n",
       "      <th>358</th>\n",
       "      <td>2012-12-24</td>\n",
       "      <td>0.3</td>\n",
       "      <td>5.6</td>\n",
       "      <td>2.8</td>\n",
       "      <td>2.8</td>\n",
       "      <td>rain</td>\n",
       "      <td>4</td>\n",
       "      <td>2012</td>\n",
       "      <td>12</td>\n",
       "    </tr>\n",
       "    <tr>\n",
       "      <th>359</th>\n",
       "      <td>2012-12-25</td>\n",
       "      <td>13.5</td>\n",
       "      <td>5.6</td>\n",
       "      <td>2.8</td>\n",
       "      <td>4.2</td>\n",
       "      <td>snow</td>\n",
       "      <td>4</td>\n",
       "      <td>2012</td>\n",
       "      <td>12</td>\n",
       "    </tr>\n",
       "    <tr>\n",
       "      <th>360</th>\n",
       "      <td>2012-12-26</td>\n",
       "      <td>4.6</td>\n",
       "      <td>6.7</td>\n",
       "      <td>3.3</td>\n",
       "      <td>4.9</td>\n",
       "      <td>rain</td>\n",
       "      <td>4</td>\n",
       "      <td>2012</td>\n",
       "      <td>12</td>\n",
       "    </tr>\n",
       "    <tr>\n",
       "      <th>361</th>\n",
       "      <td>2012-12-27</td>\n",
       "      <td>4.1</td>\n",
       "      <td>7.8</td>\n",
       "      <td>3.3</td>\n",
       "      <td>3.2</td>\n",
       "      <td>rain</td>\n",
       "      <td>4</td>\n",
       "      <td>2012</td>\n",
       "      <td>12</td>\n",
       "    </tr>\n",
       "    <tr>\n",
       "      <th>363</th>\n",
       "      <td>2012-12-29</td>\n",
       "      <td>1.5</td>\n",
       "      <td>5.0</td>\n",
       "      <td>3.3</td>\n",
       "      <td>1.7</td>\n",
       "      <td>rain</td>\n",
       "      <td>4</td>\n",
       "      <td>2012</td>\n",
       "      <td>12</td>\n",
       "    </tr>\n",
       "  </tbody>\n",
       "</table>\n",
       "<p>177 rows × 9 columns</p>\n",
       "</div>"
      ],
      "text/plain": [
       "           date  precipitation  temp_max  temp_min  wind weather  quarter  \\\n",
       "1    2012-01-02           10.9      10.6       2.8   4.5    rain        1   \n",
       "2    2012-01-03            0.8      11.7       7.2   2.3    rain        1   \n",
       "3    2012-01-04           20.3      12.2       5.6   4.7    rain        1   \n",
       "4    2012-01-05            1.3       8.9       2.8   6.1    rain        1   \n",
       "5    2012-01-06            2.5       4.4       2.2   2.2    rain        1   \n",
       "..          ...            ...       ...       ...   ...     ...      ...   \n",
       "358  2012-12-24            0.3       5.6       2.8   2.8    rain        4   \n",
       "359  2012-12-25           13.5       5.6       2.8   4.2    snow        4   \n",
       "360  2012-12-26            4.6       6.7       3.3   4.9    rain        4   \n",
       "361  2012-12-27            4.1       7.8       3.3   3.2    rain        4   \n",
       "363  2012-12-29            1.5       5.0       3.3   1.7    rain        4   \n",
       "\n",
       "     year  month  \n",
       "1    2012      1  \n",
       "2    2012      1  \n",
       "3    2012      1  \n",
       "4    2012      1  \n",
       "5    2012      1  \n",
       "..    ...    ...  \n",
       "358  2012     12  \n",
       "359  2012     12  \n",
       "360  2012     12  \n",
       "361  2012     12  \n",
       "363  2012     12  \n",
       "\n",
       "[177 rows x 9 columns]"
      ]
     },
     "execution_count": 45,
     "metadata": {},
     "output_type": "execute_result"
    }
   ],
   "source": [
    "weather_df[(weather_df.precipitation > 0) & (weather_df.year == 2012)]"
   ]
  },
  {
   "cell_type": "code",
   "execution_count": 46,
   "metadata": {
    "ExecuteTime": {
     "end_time": "2021-05-13T14:55:54.612528Z",
     "start_time": "2021-05-13T14:55:54.526756Z"
    }
   },
   "outputs": [
    {
     "data": {
      "text/html": [
       "<div>\n",
       "<style scoped>\n",
       "    .dataframe tbody tr th:only-of-type {\n",
       "        vertical-align: middle;\n",
       "    }\n",
       "\n",
       "    .dataframe tbody tr th {\n",
       "        vertical-align: top;\n",
       "    }\n",
       "\n",
       "    .dataframe thead th {\n",
       "        text-align: right;\n",
       "    }\n",
       "</style>\n",
       "<table border=\"1\" class=\"dataframe\">\n",
       "  <thead>\n",
       "    <tr style=\"text-align: right;\">\n",
       "      <th></th>\n",
       "      <th>date</th>\n",
       "      <th>precipitation</th>\n",
       "      <th>temp_max</th>\n",
       "      <th>temp_min</th>\n",
       "      <th>wind</th>\n",
       "      <th>weather</th>\n",
       "      <th>quarter</th>\n",
       "      <th>year</th>\n",
       "      <th>month</th>\n",
       "    </tr>\n",
       "  </thead>\n",
       "  <tbody>\n",
       "    <tr>\n",
       "      <th>0</th>\n",
       "      <td>2012-01-01</td>\n",
       "      <td>0.0</td>\n",
       "      <td>12.8</td>\n",
       "      <td>5.0</td>\n",
       "      <td>4.7</td>\n",
       "      <td>drizzle</td>\n",
       "      <td>1</td>\n",
       "      <td>2012</td>\n",
       "      <td>1</td>\n",
       "    </tr>\n",
       "    <tr>\n",
       "      <th>1</th>\n",
       "      <td>2012-01-02</td>\n",
       "      <td>10.9</td>\n",
       "      <td>10.6</td>\n",
       "      <td>2.8</td>\n",
       "      <td>4.5</td>\n",
       "      <td>rain</td>\n",
       "      <td>1</td>\n",
       "      <td>2012</td>\n",
       "      <td>1</td>\n",
       "    </tr>\n",
       "    <tr>\n",
       "      <th>2</th>\n",
       "      <td>2012-01-03</td>\n",
       "      <td>0.8</td>\n",
       "      <td>11.7</td>\n",
       "      <td>7.2</td>\n",
       "      <td>2.3</td>\n",
       "      <td>rain</td>\n",
       "      <td>1</td>\n",
       "      <td>2012</td>\n",
       "      <td>1</td>\n",
       "    </tr>\n",
       "    <tr>\n",
       "      <th>3</th>\n",
       "      <td>2012-01-04</td>\n",
       "      <td>20.3</td>\n",
       "      <td>12.2</td>\n",
       "      <td>5.6</td>\n",
       "      <td>4.7</td>\n",
       "      <td>rain</td>\n",
       "      <td>1</td>\n",
       "      <td>2012</td>\n",
       "      <td>1</td>\n",
       "    </tr>\n",
       "    <tr>\n",
       "      <th>4</th>\n",
       "      <td>2012-01-05</td>\n",
       "      <td>1.3</td>\n",
       "      <td>8.9</td>\n",
       "      <td>2.8</td>\n",
       "      <td>6.1</td>\n",
       "      <td>rain</td>\n",
       "      <td>1</td>\n",
       "      <td>2012</td>\n",
       "      <td>1</td>\n",
       "    </tr>\n",
       "    <tr>\n",
       "      <th>...</th>\n",
       "      <td>...</td>\n",
       "      <td>...</td>\n",
       "      <td>...</td>\n",
       "      <td>...</td>\n",
       "      <td>...</td>\n",
       "      <td>...</td>\n",
       "      <td>...</td>\n",
       "      <td>...</td>\n",
       "      <td>...</td>\n",
       "    </tr>\n",
       "    <tr>\n",
       "      <th>361</th>\n",
       "      <td>2012-12-27</td>\n",
       "      <td>4.1</td>\n",
       "      <td>7.8</td>\n",
       "      <td>3.3</td>\n",
       "      <td>3.2</td>\n",
       "      <td>rain</td>\n",
       "      <td>4</td>\n",
       "      <td>2012</td>\n",
       "      <td>12</td>\n",
       "    </tr>\n",
       "    <tr>\n",
       "      <th>362</th>\n",
       "      <td>2012-12-28</td>\n",
       "      <td>0.0</td>\n",
       "      <td>8.3</td>\n",
       "      <td>3.9</td>\n",
       "      <td>1.7</td>\n",
       "      <td>rain</td>\n",
       "      <td>4</td>\n",
       "      <td>2012</td>\n",
       "      <td>12</td>\n",
       "    </tr>\n",
       "    <tr>\n",
       "      <th>363</th>\n",
       "      <td>2012-12-29</td>\n",
       "      <td>1.5</td>\n",
       "      <td>5.0</td>\n",
       "      <td>3.3</td>\n",
       "      <td>1.7</td>\n",
       "      <td>rain</td>\n",
       "      <td>4</td>\n",
       "      <td>2012</td>\n",
       "      <td>12</td>\n",
       "    </tr>\n",
       "    <tr>\n",
       "      <th>364</th>\n",
       "      <td>2012-12-30</td>\n",
       "      <td>0.0</td>\n",
       "      <td>4.4</td>\n",
       "      <td>0.0</td>\n",
       "      <td>1.8</td>\n",
       "      <td>drizzle</td>\n",
       "      <td>4</td>\n",
       "      <td>2012</td>\n",
       "      <td>12</td>\n",
       "    </tr>\n",
       "    <tr>\n",
       "      <th>365</th>\n",
       "      <td>2012-12-31</td>\n",
       "      <td>0.0</td>\n",
       "      <td>3.3</td>\n",
       "      <td>-1.1</td>\n",
       "      <td>2.0</td>\n",
       "      <td>drizzle</td>\n",
       "      <td>4</td>\n",
       "      <td>2012</td>\n",
       "      <td>12</td>\n",
       "    </tr>\n",
       "  </tbody>\n",
       "</table>\n",
       "<p>366 rows × 9 columns</p>\n",
       "</div>"
      ],
      "text/plain": [
       "           date  precipitation  temp_max  temp_min  wind  weather  quarter  \\\n",
       "0    2012-01-01            0.0      12.8       5.0   4.7  drizzle        1   \n",
       "1    2012-01-02           10.9      10.6       2.8   4.5     rain        1   \n",
       "2    2012-01-03            0.8      11.7       7.2   2.3     rain        1   \n",
       "3    2012-01-04           20.3      12.2       5.6   4.7     rain        1   \n",
       "4    2012-01-05            1.3       8.9       2.8   6.1     rain        1   \n",
       "..          ...            ...       ...       ...   ...      ...      ...   \n",
       "361  2012-12-27            4.1       7.8       3.3   3.2     rain        4   \n",
       "362  2012-12-28            0.0       8.3       3.9   1.7     rain        4   \n",
       "363  2012-12-29            1.5       5.0       3.3   1.7     rain        4   \n",
       "364  2012-12-30            0.0       4.4       0.0   1.8  drizzle        4   \n",
       "365  2012-12-31            0.0       3.3      -1.1   2.0  drizzle        4   \n",
       "\n",
       "     year  month  \n",
       "0    2012      1  \n",
       "1    2012      1  \n",
       "2    2012      1  \n",
       "3    2012      1  \n",
       "4    2012      1  \n",
       "..    ...    ...  \n",
       "361  2012     12  \n",
       "362  2012     12  \n",
       "363  2012     12  \n",
       "364  2012     12  \n",
       "365  2012     12  \n",
       "\n",
       "[366 rows x 9 columns]"
      ]
     },
     "execution_count": 46,
     "metadata": {},
     "output_type": "execute_result"
    }
   ],
   "source": [
    "weather_df[weather_df.year == 2012]"
   ]
  },
  {
   "cell_type": "code",
   "execution_count": null,
   "metadata": {},
   "outputs": [],
   "source": []
  }
 ],
 "metadata": {
  "kernelspec": {
   "display_name": "Python 3",
   "language": "python",
   "name": "python3"
  },
  "language_info": {
   "codemirror_mode": {
    "name": "ipython",
    "version": 3
   },
   "file_extension": ".py",
   "mimetype": "text/x-python",
   "name": "python",
   "nbconvert_exporter": "python",
   "pygments_lexer": "ipython3",
   "version": "3.8.5"
  }
 },
 "nbformat": 4,
 "nbformat_minor": 4
}
