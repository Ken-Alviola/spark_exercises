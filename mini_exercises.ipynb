{
 "cells": [
  {
   "cell_type": "code",
   "execution_count": 1,
   "metadata": {
    "ExecuteTime": {
     "end_time": "2021-05-12T15:43:14.024902Z",
     "start_time": "2021-05-12T15:43:13.903137Z"
    }
   },
   "outputs": [],
   "source": [
    "import pandas as pd\n",
    "import numpy as np\n",
    "import matplotlib.pyplot as plt\n",
    "import seaborn as sns\n",
    "import pyspark\n",
    "import multiprocessing"
   ]
  },
  {
   "cell_type": "code",
   "execution_count": 2,
   "metadata": {
    "ExecuteTime": {
     "end_time": "2021-05-12T15:43:14.041759Z",
     "start_time": "2021-05-12T15:43:14.029775Z"
    }
   },
   "outputs": [],
   "source": [
    "numbers = [1,2,3,4,5]"
   ]
  },
  {
   "cell_type": "code",
   "execution_count": 3,
   "metadata": {
    "ExecuteTime": {
     "end_time": "2021-05-12T15:43:14.056517Z",
     "start_time": "2021-05-12T15:43:14.052172Z"
    }
   },
   "outputs": [],
   "source": [
    "def quadratic_mean(num_list):\n",
    "    num_list = np.array(num_list)\n",
    "    rms = np.sqrt(np.mean(num_list**2))\n",
    "    print(rms)"
   ]
  },
  {
   "cell_type": "code",
   "execution_count": 4,
   "metadata": {
    "ExecuteTime": {
     "end_time": "2021-05-12T15:43:14.068360Z",
     "start_time": "2021-05-12T15:43:14.060074Z"
    }
   },
   "outputs": [
    {
     "name": "stdout",
     "output_type": "stream",
     "text": [
      "3.3166247903554\n"
     ]
    }
   ],
   "source": [
    "quadratic_mean(numbers)"
   ]
  },
  {
   "cell_type": "code",
   "execution_count": 5,
   "metadata": {
    "ExecuteTime": {
     "end_time": "2021-05-12T15:43:14.094060Z",
     "start_time": "2021-05-12T15:43:14.073187Z"
    }
   },
   "outputs": [],
   "source": [
    "np.random.seed(13)\n",
    "\n",
    "pandas_dataframe = pd.DataFrame({\n",
    "    \"n\": np.random.randn(20),\n",
    "    \"group\": np.random.choice(list(\"xyz\"), 20),\n",
    "    \"abool\": np.random.choice([True, False], 20),\n",
    "})"
   ]
  },
  {
   "cell_type": "markdown",
   "metadata": {},
   "source": [
    "### 1. Spark Dataframe Basics\n",
    "\n",
    "- Use the starter code above to create a pandas dataframe."
   ]
  },
  {
   "cell_type": "markdown",
   "metadata": {},
   "source": [
    "- Convert the pandas dataframe to a spark dataframe. From this point forward, do all of your work with the spark dataframe, not the pandas dataframe."
   ]
  },
  {
   "cell_type": "code",
   "execution_count": 6,
   "metadata": {
    "ExecuteTime": {
     "end_time": "2021-05-12T15:43:28.787928Z",
     "start_time": "2021-05-12T15:43:14.102561Z"
    }
   },
   "outputs": [
    {
     "data": {
      "text/plain": [
       "DataFrame[n: double, group: string, abool: boolean]"
      ]
     },
     "execution_count": 6,
     "metadata": {},
     "output_type": "execute_result"
    }
   ],
   "source": [
    "spark = pyspark.sql.SparkSession.builder.getOrCreate()\n",
    "df = spark.createDataFrame(pandas_dataframe)\n",
    "df"
   ]
  },
  {
   "cell_type": "markdown",
   "metadata": {},
   "source": [
    "- Show the first 3 rows of the dataframe."
   ]
  },
  {
   "cell_type": "code",
   "execution_count": 7,
   "metadata": {
    "ExecuteTime": {
     "end_time": "2021-05-12T15:43:33.904611Z",
     "start_time": "2021-05-12T15:43:28.803409Z"
    }
   },
   "outputs": [
    {
     "name": "stdout",
     "output_type": "stream",
     "text": [
      "+--------------------+-----+-----+\n",
      "|                   n|group|abool|\n",
      "+--------------------+-----+-----+\n",
      "|  -0.712390662050588|    z|false|\n",
      "|   0.753766378659703|    x|false|\n",
      "|-0.04450307833805...|    z|false|\n",
      "+--------------------+-----+-----+\n",
      "only showing top 3 rows\n",
      "\n"
     ]
    }
   ],
   "source": [
    "df.show(3)"
   ]
  },
  {
   "cell_type": "markdown",
   "metadata": {},
   "source": [
    "- Show the first 7 rows of the dataframe."
   ]
  },
  {
   "cell_type": "code",
   "execution_count": 8,
   "metadata": {
    "ExecuteTime": {
     "end_time": "2021-05-12T15:43:34.385945Z",
     "start_time": "2021-05-12T15:43:33.923747Z"
    }
   },
   "outputs": [
    {
     "name": "stdout",
     "output_type": "stream",
     "text": [
      "+--------------------+-----+-----+\n",
      "|                   n|group|abool|\n",
      "+--------------------+-----+-----+\n",
      "|  -0.712390662050588|    z|false|\n",
      "|   0.753766378659703|    x|false|\n",
      "|-0.04450307833805...|    z|false|\n",
      "| 0.45181233874578974|    y|false|\n",
      "|  1.3451017084510097|    z|false|\n",
      "|  0.5323378882945463|    y|false|\n",
      "|  1.3501878997225267|    z|false|\n",
      "+--------------------+-----+-----+\n",
      "only showing top 7 rows\n",
      "\n"
     ]
    }
   ],
   "source": [
    "df.show(7)"
   ]
  },
  {
   "cell_type": "markdown",
   "metadata": {},
   "source": [
    "- View a summary of the data using .describe."
   ]
  },
  {
   "cell_type": "code",
   "execution_count": 9,
   "metadata": {
    "ExecuteTime": {
     "end_time": "2021-05-12T15:43:36.592322Z",
     "start_time": "2021-05-12T15:43:34.391279Z"
    }
   },
   "outputs": [
    {
     "name": "stdout",
     "output_type": "stream",
     "text": [
      "+-------+-------------------+-----+\n",
      "|summary|                  n|group|\n",
      "+-------+-------------------+-----+\n",
      "|  count|                 20|   20|\n",
      "|   mean|0.36640264498852165| null|\n",
      "| stddev| 0.8905322898155364| null|\n",
      "|    min| -1.261605945319069|    x|\n",
      "|    max| 2.1503829673811126|    z|\n",
      "+-------+-------------------+-----+\n",
      "\n"
     ]
    }
   ],
   "source": [
    "df.describe().show()"
   ]
  },
  {
   "cell_type": "markdown",
   "metadata": {},
   "source": [
    "- Use .select to create a new dataframe with just the n and abool columns. View the first 5 rows of this dataframe."
   ]
  },
  {
   "cell_type": "code",
   "execution_count": 10,
   "metadata": {
    "ExecuteTime": {
     "end_time": "2021-05-12T15:43:36.959732Z",
     "start_time": "2021-05-12T15:43:36.598029Z"
    }
   },
   "outputs": [
    {
     "name": "stdout",
     "output_type": "stream",
     "text": [
      "+--------------------+-----+\n",
      "|                   n|abool|\n",
      "+--------------------+-----+\n",
      "|  -0.712390662050588|false|\n",
      "|   0.753766378659703|false|\n",
      "|-0.04450307833805...|false|\n",
      "| 0.45181233874578974|false|\n",
      "|  1.3451017084510097|false|\n",
      "+--------------------+-----+\n",
      "only showing top 5 rows\n",
      "\n"
     ]
    }
   ],
   "source": [
    "new_df = df['n','abool']\n",
    "new_df.show(5)"
   ]
  },
  {
   "cell_type": "markdown",
   "metadata": {},
   "source": [
    "- Use .select to create a new dataframe with just the group and abool columns. View the first 5 rows of this dataframe."
   ]
  },
  {
   "cell_type": "code",
   "execution_count": 11,
   "metadata": {
    "ExecuteTime": {
     "end_time": "2021-05-12T15:43:37.310009Z",
     "start_time": "2021-05-12T15:43:36.967882Z"
    }
   },
   "outputs": [
    {
     "name": "stdout",
     "output_type": "stream",
     "text": [
      "+-----+-----+\n",
      "|group|abool|\n",
      "+-----+-----+\n",
      "|    z|false|\n",
      "|    x|false|\n",
      "|    z|false|\n",
      "|    y|false|\n",
      "|    z|false|\n",
      "+-----+-----+\n",
      "only showing top 5 rows\n",
      "\n"
     ]
    }
   ],
   "source": [
    "new_df2 = df.select('group','abool')\n",
    "new_df2.show(5)"
   ]
  },
  {
   "cell_type": "markdown",
   "metadata": {},
   "source": [
    "- Use .select to create a new dataframe with the group column and the abool column renamed to a_boolean_value. Show the first 3 rows of this dataframe."
   ]
  },
  {
   "cell_type": "code",
   "execution_count": 12,
   "metadata": {
    "ExecuteTime": {
     "end_time": "2021-05-12T15:43:37.618277Z",
     "start_time": "2021-05-12T15:43:37.333024Z"
    }
   },
   "outputs": [
    {
     "name": "stdout",
     "output_type": "stream",
     "text": [
      "+-----+---------------+\n",
      "|group|a_boolean_value|\n",
      "+-----+---------------+\n",
      "|    z|          false|\n",
      "|    x|          false|\n",
      "|    z|          false|\n",
      "+-----+---------------+\n",
      "only showing top 3 rows\n",
      "\n"
     ]
    }
   ],
   "source": [
    "rename = new_df2.select('group',new_df2.abool.alias('a_boolean_value'))\n",
    "rename.show(3)"
   ]
  },
  {
   "cell_type": "markdown",
   "metadata": {},
   "source": [
    "- Use .select to create a new dataframe with the group column and the n column renamed to a_numeric_value. Show the first 6 rows of this dataframe."
   ]
  },
  {
   "cell_type": "code",
   "execution_count": 13,
   "metadata": {
    "ExecuteTime": {
     "end_time": "2021-05-12T15:43:37.956042Z",
     "start_time": "2021-05-12T15:43:37.624889Z"
    }
   },
   "outputs": [
    {
     "name": "stdout",
     "output_type": "stream",
     "text": [
      "+-----+--------------------+\n",
      "|group|     a_numeric_value|\n",
      "+-----+--------------------+\n",
      "|    z|  -0.712390662050588|\n",
      "|    x|   0.753766378659703|\n",
      "|    z|-0.04450307833805...|\n",
      "|    y| 0.45181233874578974|\n",
      "|    z|  1.3451017084510097|\n",
      "+-----+--------------------+\n",
      "only showing top 5 rows\n",
      "\n"
     ]
    }
   ],
   "source": [
    "df.select('group',df.n.alias('a_numeric_value')).show(5)"
   ]
  },
  {
   "cell_type": "markdown",
   "metadata": {},
   "source": [
    "### 2. Column Manipulation\n",
    "\n",
    "- Use the starter code above to re-create a spark dataframe. Store the spark dataframe in a varaible named df"
   ]
  },
  {
   "cell_type": "markdown",
   "metadata": {},
   "source": [
    "- Use .select to add 4 to the n column. Show the results."
   ]
  },
  {
   "cell_type": "code",
   "execution_count": 14,
   "metadata": {
    "ExecuteTime": {
     "end_time": "2021-05-12T15:43:38.629141Z",
     "start_time": "2021-05-12T15:43:37.962456Z"
    }
   },
   "outputs": [
    {
     "name": "stdout",
     "output_type": "stream",
     "text": [
      "+------------------+\n",
      "|           (n + 4)|\n",
      "+------------------+\n",
      "|3.2876093379494122|\n",
      "| 4.753766378659703|\n",
      "|3.9554969216619464|\n",
      "|  4.45181233874579|\n",
      "|5.3451017084510095|\n",
      "| 4.532337888294546|\n",
      "| 5.350187899722527|\n",
      "|  4.86121137416932|\n",
      "| 5.478685737435897|\n",
      "| 2.954622869461466|\n",
      "|3.2110109750484512|\n",
      "| 2.738394054680931|\n",
      "| 4.562846785281032|\n",
      "|3.7566737481144377|\n",
      "| 4.913740704859677|\n",
      "| 4.317350922736336|\n",
      "| 4.127303280206981|\n",
      "| 6.150382967381113|\n",
      "| 4.606288656896298|\n",
      "|3.9732283500135592|\n",
      "+------------------+\n",
      "\n"
     ]
    }
   ],
   "source": [
    "df.select(df.n + 4).show()"
   ]
  },
  {
   "cell_type": "markdown",
   "metadata": {},
   "source": [
    "- Subtract 5 from the n column and view the results."
   ]
  },
  {
   "cell_type": "code",
   "execution_count": 15,
   "metadata": {
    "ExecuteTime": {
     "end_time": "2021-05-12T15:43:39.086814Z",
     "start_time": "2021-05-12T15:43:38.636369Z"
    }
   },
   "outputs": [
    {
     "name": "stdout",
     "output_type": "stream",
     "text": [
      "+-------------------+\n",
      "|            (n - 5)|\n",
      "+-------------------+\n",
      "| -5.712390662050588|\n",
      "| -4.246233621340297|\n",
      "| -5.044503078338053|\n",
      "|  -4.54818766125421|\n",
      "|-3.6548982915489905|\n",
      "| -4.467662111705454|\n",
      "|-3.6498121002774733|\n",
      "|  -4.13878862583068|\n",
      "| -3.521314262564103|\n",
      "| -6.045377130538534|\n",
      "| -5.788989024951549|\n",
      "| -6.261605945319069|\n",
      "| -4.437153214718968|\n",
      "| -5.243326251885563|\n",
      "| -4.086259295140323|\n",
      "| -4.682649077263664|\n",
      "| -4.872696719793019|\n",
      "|-2.8496170326188874|\n",
      "| -4.393711343103702|\n",
      "| -5.026771649986441|\n",
      "+-------------------+\n",
      "\n"
     ]
    }
   ],
   "source": [
    "df.select(df.n - 5).show()"
   ]
  },
  {
   "cell_type": "markdown",
   "metadata": {},
   "source": [
    "- Multiply the n column by 2. View the results along with the original numbers."
   ]
  },
  {
   "cell_type": "code",
   "execution_count": 16,
   "metadata": {
    "ExecuteTime": {
     "end_time": "2021-05-12T15:43:39.461066Z",
     "start_time": "2021-05-12T15:43:39.091537Z"
    }
   },
   "outputs": [
    {
     "name": "stdout",
     "output_type": "stream",
     "text": [
      "+--------------------+--------------------+\n",
      "|                   n|             (n * 2)|\n",
      "+--------------------+--------------------+\n",
      "|  -0.712390662050588|  -1.424781324101176|\n",
      "|   0.753766378659703|   1.507532757319406|\n",
      "|-0.04450307833805...|-0.08900615667610691|\n",
      "| 0.45181233874578974|  0.9036246774915795|\n",
      "|  1.3451017084510097|  2.6902034169020195|\n",
      "|  0.5323378882945463|  1.0646757765890926|\n",
      "|  1.3501878997225267|  2.7003757994450535|\n",
      "|  0.8612113741693206|  1.7224227483386412|\n",
      "|  1.4786857374358966|   2.957371474871793|\n",
      "| -1.0453771305385342| -2.0907542610770684|\n",
      "| -0.7889890249515489| -1.5779780499030978|\n",
      "|  -1.261605945319069|  -2.523211890638138|\n",
      "|  0.5628467852810314|  1.1256935705620628|\n",
      "|-0.24332625188556253|-0.48665250377112507|\n",
      "|  0.9137407048596775|   1.827481409719355|\n",
      "| 0.31735092273633597|  0.6347018454726719|\n",
      "| 0.12730328020698067| 0.25460656041396135|\n",
      "|  2.1503829673811126|   4.300765934762225|\n",
      "|  0.6062886568962988|  1.2125773137925977|\n",
      "|-0.02677164998644...|-0.05354329997288145|\n",
      "+--------------------+--------------------+\n",
      "\n"
     ]
    }
   ],
   "source": [
    "df.select('n',df.n * 2).show()"
   ]
  },
  {
   "cell_type": "markdown",
   "metadata": {},
   "source": [
    "- Add a new column named n2 that is the n value multiplied by -1. Show the first 4 rows of your dataframe. You should see the original n value as well as n2."
   ]
  },
  {
   "cell_type": "code",
   "execution_count": 17,
   "metadata": {
    "ExecuteTime": {
     "end_time": "2021-05-12T15:43:40.032198Z",
     "start_time": "2021-05-12T15:43:39.469070Z"
    }
   },
   "outputs": [
    {
     "name": "stdout",
     "output_type": "stream",
     "text": [
      "+--------------------+-----+-----+--------------------+\n",
      "|                   n|group|abool|                  n2|\n",
      "+--------------------+-----+-----+--------------------+\n",
      "|  -0.712390662050588|    z|false|  -1.424781324101176|\n",
      "|   0.753766378659703|    x|false|   1.507532757319406|\n",
      "|-0.04450307833805...|    z|false|-0.08900615667610691|\n",
      "| 0.45181233874578974|    y|false|  0.9036246774915795|\n",
      "+--------------------+-----+-----+--------------------+\n",
      "only showing top 4 rows\n",
      "\n"
     ]
    }
   ],
   "source": [
    "df.select('n','group','abool',(df.n*2).alias('n2')).show(4)"
   ]
  },
  {
   "cell_type": "markdown",
   "metadata": {},
   "source": [
    "- Add a new column named n3 that is the n value squared. Show the first 5 rows of your dataframe. You should see both n, n2, and n3."
   ]
  },
  {
   "cell_type": "code",
   "execution_count": 18,
   "metadata": {
    "ExecuteTime": {
     "end_time": "2021-05-12T15:43:40.611324Z",
     "start_time": "2021-05-12T15:43:40.036659Z"
    }
   },
   "outputs": [
    {
     "name": "stdout",
     "output_type": "stream",
     "text": [
      "+--------------------+-----+-----+--------------------+--------------------+\n",
      "|                   n|group|abool|                  n2|                  n3|\n",
      "+--------------------+-----+-----+--------------------+--------------------+\n",
      "|  -0.712390662050588|    z|false|  -1.424781324101176|   0.507500455376875|\n",
      "|   0.753766378659703|    x|false|   1.507532757319406|  0.5681637535977627|\n",
      "|-0.04450307833805...|    z|false|-0.08900615667610691|0.001980523981562...|\n",
      "| 0.45181233874578974|    y|false|  0.9036246774915795| 0.20413438944294027|\n",
      "|  1.3451017084510097|    z|false|  2.6902034169020195|  1.8092986060778251|\n",
      "+--------------------+-----+-----+--------------------+--------------------+\n",
      "only showing top 5 rows\n",
      "\n"
     ]
    }
   ],
   "source": [
    "df.select('n','group','abool',(df.n*2).alias('n2'),(df.n**2).alias('n3')).show(5)"
   ]
  },
  {
   "cell_type": "markdown",
   "metadata": {},
   "source": [
    "- What happens when you run the code below?\n",
    "\n",
    "    df.group + df.abool"
   ]
  },
  {
   "cell_type": "markdown",
   "metadata": {},
   "source": [
    "- What happens when you run the code below? What is the difference between this and the previous code sample?\n",
    "df.select(df.group + df.abool)"
   ]
  },
  {
   "cell_type": "markdown",
   "metadata": {},
   "source": [
    "- Try adding various other columns together. What are the results of combining the different data types?"
   ]
  },
  {
   "cell_type": "markdown",
   "metadata": {},
   "source": [
    "### 3. Type casting\n",
    "\n",
    "- Use the starter code above to re-create a spark dataframe."
   ]
  },
  {
   "cell_type": "markdown",
   "metadata": {},
   "source": [
    "- Use .printSchema to view the datatypes in your dataframe."
   ]
  },
  {
   "cell_type": "code",
   "execution_count": 19,
   "metadata": {
    "ExecuteTime": {
     "end_time": "2021-05-12T15:43:40.632071Z",
     "start_time": "2021-05-12T15:43:40.616981Z"
    }
   },
   "outputs": [
    {
     "name": "stdout",
     "output_type": "stream",
     "text": [
      "root\n",
      " |-- n: double (nullable = true)\n",
      " |-- group: string (nullable = true)\n",
      " |-- abool: boolean (nullable = true)\n",
      "\n"
     ]
    }
   ],
   "source": [
    "df.printSchema()"
   ]
  },
  {
   "cell_type": "markdown",
   "metadata": {},
   "source": [
    "- Use .dtypes to view the datatypes in your dataframe."
   ]
  },
  {
   "cell_type": "code",
   "execution_count": 21,
   "metadata": {
    "ExecuteTime": {
     "end_time": "2021-05-12T15:44:17.429236Z",
     "start_time": "2021-05-12T15:44:17.420670Z"
    }
   },
   "outputs": [
    {
     "data": {
      "text/plain": [
       "[('n', 'double'), ('group', 'string'), ('abool', 'boolean')]"
      ]
     },
     "execution_count": 21,
     "metadata": {},
     "output_type": "execute_result"
    }
   ],
   "source": [
    "df.dtypes"
   ]
  },
  {
   "cell_type": "markdown",
   "metadata": {},
   "source": [
    "- What is the difference between the two code samples below?\n",
    "\n",
    "    df.abool.cast('int')\n",
    "    df.select(df.abool.cast('int')).show()\n",
    "    "
   ]
  },
  {
   "cell_type": "code",
   "execution_count": 22,
   "metadata": {
    "ExecuteTime": {
     "end_time": "2021-05-12T15:44:57.665441Z",
     "start_time": "2021-05-12T15:44:57.387263Z"
    }
   },
   "outputs": [
    {
     "data": {
      "text/plain": [
       "Column<'CAST(abool AS INT)'>"
      ]
     },
     "execution_count": 22,
     "metadata": {},
     "output_type": "execute_result"
    }
   ],
   "source": [
    "df.abool.cast('int')"
   ]
  },
  {
   "cell_type": "code",
   "execution_count": 23,
   "metadata": {
    "ExecuteTime": {
     "end_time": "2021-05-12T15:45:07.025440Z",
     "start_time": "2021-05-12T15:45:06.812316Z"
    }
   },
   "outputs": [
    {
     "name": "stdout",
     "output_type": "stream",
     "text": [
      "+-----+\n",
      "|abool|\n",
      "+-----+\n",
      "|    0|\n",
      "|    0|\n",
      "|    0|\n",
      "|    0|\n",
      "|    0|\n",
      "|    0|\n",
      "|    0|\n",
      "|    0|\n",
      "|    1|\n",
      "|    1|\n",
      "|    0|\n",
      "|    0|\n",
      "|    1|\n",
      "|    1|\n",
      "|    0|\n",
      "|    0|\n",
      "|    0|\n",
      "|    1|\n",
      "|    0|\n",
      "|    1|\n",
      "+-----+\n",
      "\n"
     ]
    }
   ],
   "source": [
    "df.select(df.abool.cast('int')).show()"
   ]
  },
  {
   "cell_type": "code",
   "execution_count": 28,
   "metadata": {
    "ExecuteTime": {
     "end_time": "2021-05-12T15:46:19.829153Z",
     "start_time": "2021-05-12T15:46:19.677316Z"
    }
   },
   "outputs": [
    {
     "name": "stdout",
     "output_type": "stream",
     "text": [
      "+--------------------+-----+-----+\n",
      "|                   n|group|abool|\n",
      "+--------------------+-----+-----+\n",
      "|  -0.712390662050588|    z|false|\n",
      "|   0.753766378659703|    x|false|\n",
      "|-0.04450307833805...|    z|false|\n",
      "| 0.45181233874578974|    y|false|\n",
      "|  1.3451017084510097|    z|false|\n",
      "+--------------------+-----+-----+\n",
      "only showing top 5 rows\n",
      "\n"
     ]
    }
   ],
   "source": [
    "df.show(5)"
   ]
  },
  {
   "cell_type": "markdown",
   "metadata": {},
   "source": [
    "- Use .select and .cast to convert the abool column to an integer type. View the results."
   ]
  },
  {
   "cell_type": "code",
   "execution_count": 30,
   "metadata": {
    "ExecuteTime": {
     "end_time": "2021-05-12T15:47:23.693354Z",
     "start_time": "2021-05-12T15:47:23.683790Z"
    }
   },
   "outputs": [],
   "source": [
    "from pyspark.sql.functions import asc, desc, col"
   ]
  },
  {
   "cell_type": "code",
   "execution_count": 33,
   "metadata": {
    "ExecuteTime": {
     "end_time": "2021-05-12T15:50:00.554943Z",
     "start_time": "2021-05-12T15:50:00.334211Z"
    }
   },
   "outputs": [
    {
     "name": "stdout",
     "output_type": "stream",
     "text": [
      "+--------------------+-----+-----+--------+\n",
      "|                   n|group|abool|bool_int|\n",
      "+--------------------+-----+-----+--------+\n",
      "|  -0.712390662050588|    z|false|       0|\n",
      "|   0.753766378659703|    x|false|       0|\n",
      "|-0.04450307833805...|    z|false|       0|\n",
      "| 0.45181233874578974|    y|false|       0|\n",
      "|  1.3451017084510097|    z|false|       0|\n",
      "|  0.5323378882945463|    y|false|       0|\n",
      "|  1.3501878997225267|    z|false|       0|\n",
      "|  0.8612113741693206|    x|false|       0|\n",
      "|  1.4786857374358966|    z| true|       1|\n",
      "| -1.0453771305385342|    y| true|       1|\n",
      "| -0.7889890249515489|    x|false|       0|\n",
      "|  -1.261605945319069|    y|false|       0|\n",
      "|  0.5628467852810314|    y| true|       1|\n",
      "|-0.24332625188556253|    y| true|       1|\n",
      "|  0.9137407048596775|    y|false|       0|\n",
      "| 0.31735092273633597|    x|false|       0|\n",
      "| 0.12730328020698067|    z|false|       0|\n",
      "|  2.1503829673811126|    y| true|       1|\n",
      "|  0.6062886568962988|    x|false|       0|\n",
      "|-0.02677164998644...|    x| true|       1|\n",
      "+--------------------+-----+-----+--------+\n",
      "\n"
     ]
    }
   ],
   "source": [
    "df.select('*',df.abool.cast('int').alias('bool_int')).show()"
   ]
  },
  {
   "cell_type": "markdown",
   "metadata": {},
   "source": [
    "- Convert the group column to a integer data type and view the results. What happens?"
   ]
  },
  {
   "cell_type": "code",
   "execution_count": 34,
   "metadata": {
    "ExecuteTime": {
     "end_time": "2021-05-12T15:51:00.615319Z",
     "start_time": "2021-05-12T15:51:00.437411Z"
    }
   },
   "outputs": [
    {
     "name": "stdout",
     "output_type": "stream",
     "text": [
      "+--------------------+-----+-----+--------+-----+\n",
      "|                   n|group|abool|bool_int|group|\n",
      "+--------------------+-----+-----+--------+-----+\n",
      "|  -0.712390662050588|    z|false|       0| null|\n",
      "|   0.753766378659703|    x|false|       0| null|\n",
      "|-0.04450307833805...|    z|false|       0| null|\n",
      "| 0.45181233874578974|    y|false|       0| null|\n",
      "|  1.3451017084510097|    z|false|       0| null|\n",
      "|  0.5323378882945463|    y|false|       0| null|\n",
      "|  1.3501878997225267|    z|false|       0| null|\n",
      "|  0.8612113741693206|    x|false|       0| null|\n",
      "|  1.4786857374358966|    z| true|       1| null|\n",
      "| -1.0453771305385342|    y| true|       1| null|\n",
      "| -0.7889890249515489|    x|false|       0| null|\n",
      "|  -1.261605945319069|    y|false|       0| null|\n",
      "|  0.5628467852810314|    y| true|       1| null|\n",
      "|-0.24332625188556253|    y| true|       1| null|\n",
      "|  0.9137407048596775|    y|false|       0| null|\n",
      "| 0.31735092273633597|    x|false|       0| null|\n",
      "| 0.12730328020698067|    z|false|       0| null|\n",
      "|  2.1503829673811126|    y| true|       1| null|\n",
      "|  0.6062886568962988|    x|false|       0| null|\n",
      "|-0.02677164998644...|    x| true|       1| null|\n",
      "+--------------------+-----+-----+--------+-----+\n",
      "\n"
     ]
    }
   ],
   "source": [
    "#string to null\n",
    "df.select('*',df.abool.cast('int').alias('bool_int'),df.group.cast('int')).show()"
   ]
  },
  {
   "cell_type": "markdown",
   "metadata": {},
   "source": [
    "- Convert the n column to a integer data type and view the results. What happens?"
   ]
  },
  {
   "cell_type": "code",
   "execution_count": 35,
   "metadata": {
    "ExecuteTime": {
     "end_time": "2021-05-12T15:53:42.885277Z",
     "start_time": "2021-05-12T15:53:42.700384Z"
    }
   },
   "outputs": [
    {
     "name": "stdout",
     "output_type": "stream",
     "text": [
      "+--------------------+-----+-----+--------+---+\n",
      "|                   n|group|abool|bool_int|  n|\n",
      "+--------------------+-----+-----+--------+---+\n",
      "|  -0.712390662050588|    z|false|       0|  0|\n",
      "|   0.753766378659703|    x|false|       0|  0|\n",
      "|-0.04450307833805...|    z|false|       0|  0|\n",
      "| 0.45181233874578974|    y|false|       0|  0|\n",
      "|  1.3451017084510097|    z|false|       0|  1|\n",
      "|  0.5323378882945463|    y|false|       0|  0|\n",
      "|  1.3501878997225267|    z|false|       0|  1|\n",
      "|  0.8612113741693206|    x|false|       0|  0|\n",
      "|  1.4786857374358966|    z| true|       1|  1|\n",
      "| -1.0453771305385342|    y| true|       1| -1|\n",
      "| -0.7889890249515489|    x|false|       0|  0|\n",
      "|  -1.261605945319069|    y|false|       0| -1|\n",
      "|  0.5628467852810314|    y| true|       1|  0|\n",
      "|-0.24332625188556253|    y| true|       1|  0|\n",
      "|  0.9137407048596775|    y|false|       0|  0|\n",
      "| 0.31735092273633597|    x|false|       0|  0|\n",
      "| 0.12730328020698067|    z|false|       0|  0|\n",
      "|  2.1503829673811126|    y| true|       1|  2|\n",
      "|  0.6062886568962988|    x|false|       0|  0|\n",
      "|-0.02677164998644...|    x| true|       1|  0|\n",
      "+--------------------+-----+-----+--------+---+\n",
      "\n"
     ]
    }
   ],
   "source": [
    "#rounds to nearest into\n",
    "df.select('*',df.abool.cast('int').alias('bool_int'),df.n.cast('int')).show()"
   ]
  },
  {
   "cell_type": "markdown",
   "metadata": {},
   "source": [
    "- Convert the abool column to a string data type and view the results. What happens?"
   ]
  },
  {
   "cell_type": "code",
   "execution_count": 39,
   "metadata": {
    "ExecuteTime": {
     "end_time": "2021-05-12T15:55:08.752844Z",
     "start_time": "2021-05-12T15:55:08.718532Z"
    }
   },
   "outputs": [
    {
     "data": {
      "text/plain": [
       "[('n', 'double'),\n",
       " ('group', 'string'),\n",
       " ('abool', 'boolean'),\n",
       " ('string_abool', 'string'),\n",
       " ('n', 'int')]"
      ]
     },
     "execution_count": 39,
     "metadata": {},
     "output_type": "execute_result"
    }
   ],
   "source": [
    "df.select('*',df.abool.cast('string').alias('string_abool'),df.n.cast('int')).dtypes"
   ]
  },
  {
   "cell_type": "code",
   "execution_count": 40,
   "metadata": {
    "ExecuteTime": {
     "end_time": "2021-05-12T15:55:35.421045Z",
     "start_time": "2021-05-12T15:55:35.275813Z"
    }
   },
   "outputs": [
    {
     "name": "stdout",
     "output_type": "stream",
     "text": [
      "+--------------------+-----+-----+------------+---+\n",
      "|                   n|group|abool|string_abool|  n|\n",
      "+--------------------+-----+-----+------------+---+\n",
      "|  -0.712390662050588|    z|false|       false|  0|\n",
      "|   0.753766378659703|    x|false|       false|  0|\n",
      "|-0.04450307833805...|    z|false|       false|  0|\n",
      "| 0.45181233874578974|    y|false|       false|  0|\n",
      "|  1.3451017084510097|    z|false|       false|  1|\n",
      "+--------------------+-----+-----+------------+---+\n",
      "only showing top 5 rows\n",
      "\n"
     ]
    }
   ],
   "source": [
    "df.select('*',df.abool.cast('string').alias('string_abool'),df.n.cast('int')).show(5)"
   ]
  },
  {
   "cell_type": "markdown",
   "metadata": {},
   "source": [
    "### 4. Built-in Functions\n",
    "\n",
    "- Use the starter code above to re-create a spark dataframe.\n",
    "- Import the necessary functions from pyspark.sql.functions\n",
    "- Find the highest n value.\n",
    "- Find the lowest n value.\n",
    "- Find the average n value.\n",
    "- Use concat to change the group column to say, e.g. \"Group: x\" or \"Group: y\"\n",
    "- Use concat to combine the n and group columns to produce results that look like this: \"x: -1.432\" or \"z: 2.352\""
   ]
  },
  {
   "cell_type": "markdown",
   "metadata": {},
   "source": [
    "### 5. When / Otherwise\n",
    "\n",
    "- Use the starter code above to re-create a spark dataframe.\n",
    "- Use when and .otherwise to create a column that contains the text \"It is true\" when abool is true and \"It is false\"\" when abool is false.\n",
    "- Create a column that contains 0 if n is less than 0, otherwise, the original n value."
   ]
  },
  {
   "cell_type": "markdown",
   "metadata": {},
   "source": [
    "### 6. Filter / Where\n",
    "\n",
    "- Use the starter code above to re-create a spark dataframe.\n",
    "- Use .filter or .where to select just the rows where the group is y and view the results.\n",
    "- Select just the columns where the abool column is false and view the results.\n",
    "- Find the columns where the group column is not y.\n",
    "- Find the columns where n is positive.\n",
    "- Find the columns where abool is true and the group column is z.\n",
    "- Find the columns where abool is true or the group column is z.\n",
    "- Find the columns where abool is false and n is less than 1\n",
    "- Find the columns where abool is false or n is less than 1"
   ]
  },
  {
   "cell_type": "markdown",
   "metadata": {},
   "source": [
    "### 7. Sorting\n",
    "\n",
    "- Use the starter code above to re-create a spark dataframe.\n",
    "- Sort by the n value.\n",
    "- Sort by the group value, both ascending and descending.\n",
    "- Sort by the group value first, then, within each group, sort by n value.\n",
    "- Sort by abool, group, and n. Does it matter in what order you specify the columns when sorting?"
   ]
  },
  {
   "cell_type": "code",
   "execution_count": null,
   "metadata": {},
   "outputs": [],
   "source": []
  }
 ],
 "metadata": {
  "kernelspec": {
   "display_name": "Python 3",
   "language": "python",
   "name": "python3"
  },
  "language_info": {
   "codemirror_mode": {
    "name": "ipython",
    "version": 3
   },
   "file_extension": ".py",
   "mimetype": "text/x-python",
   "name": "python",
   "nbconvert_exporter": "python",
   "pygments_lexer": "ipython3",
   "version": "3.8.5"
  }
 },
 "nbformat": 4,
 "nbformat_minor": 4
}
