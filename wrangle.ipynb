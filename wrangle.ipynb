{
 "cells": [
  {
   "cell_type": "code",
   "execution_count": 1,
   "metadata": {
    "ExecuteTime": {
     "end_time": "2021-05-14T18:45:54.244536Z",
     "start_time": "2021-05-14T18:45:47.141027Z"
    }
   },
   "outputs": [],
   "source": [
    "from pyspark.sql import SparkSession\n",
    "from pyspark.sql.functions import *\n",
    "from pyspark.sql.types import StructType, StructField, StringType\n",
    "\n",
    "from pydataset import data\n",
    "import pandas as pd\n",
    "import numpy as np\n",
    "import matplotlib.pyplot as plt\n",
    "import seaborn as sns\n",
    "import pyspark\n",
    "import multiprocessing\n",
    "from pyspark.sql.functions import *\n",
    "\n",
    "spark = SparkSession.builder.getOrCreate()"
   ]
  },
  {
   "cell_type": "markdown",
   "metadata": {},
   "source": [
    "These exercises should go in a notebook or script named wrangle. Add, commit, and push your changes.\n",
    "\n",
    "This exercises uses the case.csv, dept.csv, and source.csv files from the san antonio 311 call dataset.\n",
    "\n",
    "# 1. Read the case, department, and source data into their own spark dataframes."
   ]
  },
  {
   "cell_type": "code",
   "execution_count": 35,
   "metadata": {
    "ExecuteTime": {
     "end_time": "2021-05-14T21:40:40.764854Z",
     "start_time": "2021-05-14T21:40:32.150539Z"
    }
   },
   "outputs": [],
   "source": [
    "source = spark.read.csv(\"source.csv\", sep=\",\", header=True, inferSchema=True)\n",
    "case = spark.read.csv('case.csv', sep=',', header=True, inferSchema=True)\n",
    "dept = spark.read.csv('dept.csv', sep=',', header=True, inferSchema=True)"
   ]
  },
  {
   "cell_type": "markdown",
   "metadata": {},
   "source": [
    "# 2. Let's see how writing to the local disk works in spark:\n",
    "    Write the code necessary to store the source data in both csv and json format, store these as sources_csv and sources_json\n",
    "    Inspect your folder structure. What do you notice?"
   ]
  },
  {
   "cell_type": "code",
   "execution_count": 3,
   "metadata": {
    "ExecuteTime": {
     "end_time": "2021-05-14T18:52:41.759863Z",
     "start_time": "2021-05-14T18:52:40.844973Z"
    }
   },
   "outputs": [],
   "source": [
    "source.write.csv('sources_csv', mode='overwrite')\n",
    "source.write.json('sources_json', mode='overwrite')"
   ]
  },
  {
   "cell_type": "markdown",
   "metadata": {},
   "source": [
    "# 3. Inspect the data in your dataframes. Are the data types appropriate? Write the code necessary to cast the values to the appropriate types."
   ]
  },
  {
   "cell_type": "code",
   "execution_count": 6,
   "metadata": {
    "ExecuteTime": {
     "end_time": "2021-05-14T18:54:10.392185Z",
     "start_time": "2021-05-14T18:54:10.373306Z"
    }
   },
   "outputs": [
    {
     "name": "stdout",
     "output_type": "stream",
     "text": [
      "root\n",
      " |-- source_id: string (nullable = true)\n",
      " |-- source_username: string (nullable = true)\n",
      "\n",
      "root\n",
      " |-- case_id: integer (nullable = true)\n",
      " |-- case_opened_date: string (nullable = true)\n",
      " |-- case_closed_date: string (nullable = true)\n",
      " |-- SLA_due_date: string (nullable = true)\n",
      " |-- case_late: string (nullable = true)\n",
      " |-- num_days_late: double (nullable = true)\n",
      " |-- case_closed: string (nullable = true)\n",
      " |-- dept_division: string (nullable = true)\n",
      " |-- service_request_type: string (nullable = true)\n",
      " |-- SLA_days: double (nullable = true)\n",
      " |-- case_status: string (nullable = true)\n",
      " |-- source_id: string (nullable = true)\n",
      " |-- request_address: string (nullable = true)\n",
      " |-- council_district: integer (nullable = true)\n",
      "\n",
      "root\n",
      " |-- dept_division: string (nullable = true)\n",
      " |-- dept_name: string (nullable = true)\n",
      " |-- standardized_dept_name: string (nullable = true)\n",
      " |-- dept_subject_to_SLA: string (nullable = true)\n",
      "\n"
     ]
    },
    {
     "data": {
      "text/plain": [
       "(None, None, None)"
      ]
     },
     "execution_count": 6,
     "metadata": {},
     "output_type": "execute_result"
    }
   ],
   "source": [
    "source.printSchema(), case.printSchema(), dept.printSchema()"
   ]
  },
  {
   "cell_type": "code",
   "execution_count": 12,
   "metadata": {
    "ExecuteTime": {
     "end_time": "2021-05-14T18:55:58.222099Z",
     "start_time": "2021-05-14T18:55:58.067850Z"
    }
   },
   "outputs": [
    {
     "name": "stdout",
     "output_type": "stream",
     "text": [
      "+---------+--------------------+\n",
      "|source_id|     source_username|\n",
      "+---------+--------------------+\n",
      "|   100137|    Merlene Blodgett|\n",
      "|   103582|         Carmen Cura|\n",
      "|   106463|     Richard Sanchez|\n",
      "|   119403|      Betty De Hoyos|\n",
      "|   119555|      Socorro Quiara|\n",
      "|   119868| Michelle San Miguel|\n",
      "|   120752|      Eva T. Kleiber|\n",
      "|   124405|           Lori Lara|\n",
      "|   132408|       Leonard Silva|\n",
      "|   135723|        Amy Cardenas|\n",
      "|   136202|    Michelle Urrutia|\n",
      "|   136979|      Leticia Garcia|\n",
      "|   137943|    Pamela K. Baccus|\n",
      "|   138605|        Marisa Ozuna|\n",
      "|   138650|      Kimberly Green|\n",
      "|   138650|Kimberly Green-Woods|\n",
      "|   138793| Guadalupe Rodriguez|\n",
      "|   138810|       Tawona Martin|\n",
      "|   139342|     Jessica Mendoza|\n",
      "|   139344|        Isis Mendoza|\n",
      "+---------+--------------------+\n",
      "only showing top 20 rows\n",
      "\n",
      "root\n",
      " |-- source_id: string (nullable = true)\n",
      " |-- source_username: string (nullable = true)\n",
      "\n"
     ]
    },
    {
     "data": {
      "text/plain": [
       "(None, None)"
      ]
     },
     "execution_count": 12,
     "metadata": {},
     "output_type": "execute_result"
    }
   ],
   "source": [
    "source.show(), source.printSchema()"
   ]
  },
  {
   "cell_type": "code",
   "execution_count": 13,
   "metadata": {
    "ExecuteTime": {
     "end_time": "2021-05-14T18:56:10.896035Z",
     "start_time": "2021-05-14T18:56:10.745328Z"
    }
   },
   "outputs": [
    {
     "name": "stdout",
     "output_type": "stream",
     "text": [
      "+--------------------+--------------------+----------------------+-------------------+\n",
      "|       dept_division|           dept_name|standardized_dept_name|dept_subject_to_SLA|\n",
      "+--------------------+--------------------+----------------------+-------------------+\n",
      "|     311 Call Center|    Customer Service|      Customer Service|                YES|\n",
      "|               Brush|Solid Waste Manag...|           Solid Waste|                YES|\n",
      "|     Clean and Green|Parks and Recreation|    Parks & Recreation|                YES|\n",
      "|Clean and Green N...|Parks and Recreation|    Parks & Recreation|                YES|\n",
      "|    Code Enforcement|Code Enforcement ...|  DSD/Code Enforcement|                YES|\n",
      "|Code Enforcement ...|Code Enforcement ...|  DSD/Code Enforcement|                YES|\n",
      "|Code Enforcement ...|                null|  DSD/Code Enforcement|                YES|\n",
      "|   Dangerous Premise|Code Enforcement ...|  DSD/Code Enforcement|                YES|\n",
      "|Dangerous Premise...|Code Enforcement ...|  DSD/Code Enforcement|                YES|\n",
      "|Director's Office...|Trans & Cap Impro...|  Trans & Cap Impro...|                YES|\n",
      "|          District 1|        City Council|          City Council|                 NO|\n",
      "|         District 10|        City Council|          City Council|                 NO|\n",
      "|          District 2|        City Council|          City Council|                 NO|\n",
      "|          District 3|        City Council|          City Council|                 NO|\n",
      "|          District 6|        City Council|          City Council|                 NO|\n",
      "|          District 7|        City Council|          City Council|                 NO|\n",
      "|          District 8|        City Council|          City Council|                 NO|\n",
      "|          District 9|        City Council|          City Council|                 NO|\n",
      "|Engineering Division|Development Services|  DSD/Code Enforcement|                YES|\n",
      "|    Facility License|        Metro Health|          Metro Health|                YES|\n",
      "+--------------------+--------------------+----------------------+-------------------+\n",
      "only showing top 20 rows\n",
      "\n",
      "root\n",
      " |-- dept_division: string (nullable = true)\n",
      " |-- dept_name: string (nullable = true)\n",
      " |-- standardized_dept_name: string (nullable = true)\n",
      " |-- dept_subject_to_SLA: string (nullable = true)\n",
      "\n"
     ]
    },
    {
     "data": {
      "text/plain": [
       "(None, None)"
      ]
     },
     "execution_count": 13,
     "metadata": {},
     "output_type": "execute_result"
    }
   ],
   "source": [
    "dept.show(), dept.printSchema()"
   ]
  },
  {
   "cell_type": "code",
   "execution_count": 11,
   "metadata": {
    "ExecuteTime": {
     "end_time": "2021-05-14T18:55:45.803609Z",
     "start_time": "2021-05-14T18:55:45.603720Z"
    }
   },
   "outputs": [
    {
     "name": "stdout",
     "output_type": "stream",
     "text": [
      "+----------+----------------+----------------+------------+---------+-------------------+-----------+----------------+--------------------+------------------+-----------+---------+--------------------+----------------+\n",
      "|   case_id|case_opened_date|case_closed_date|SLA_due_date|case_late|      num_days_late|case_closed|   dept_division|service_request_type|          SLA_days|case_status|source_id|     request_address|council_district|\n",
      "+----------+----------------+----------------+------------+---------+-------------------+-----------+----------------+--------------------+------------------+-----------+---------+--------------------+----------------+\n",
      "|1014127332|     1/1/18 0:42|    1/1/18 12:29|9/26/20 0:42|       NO| -998.5087616000001|        YES|Field Operations|        Stray Animal|             999.0|     Closed| svcCRMLS|2315  EL PASO ST,...|               5|\n",
      "|1014127333|     1/1/18 0:46|     1/3/18 8:11| 1/5/18 8:30|       NO|-2.0126041669999997|        YES|     Storm Water|Removal Of Obstru...|       4.322222222|     Closed| svcCRMSS|2215  GOLIAD RD, ...|               3|\n",
      "|1014127334|     1/1/18 0:48|     1/2/18 7:57| 1/5/18 8:30|       NO|       -3.022337963|        YES|     Storm Water|Removal Of Obstru...|       4.320729167|     Closed| svcCRMSS|102  PALFREY ST W...|               3|\n",
      "|1014127335|     1/1/18 1:29|     1/2/18 8:13|1/17/18 8:30|       NO|       -15.01148148|        YES|Code Enforcement|Front Or Side Yar...|       16.29188657|     Closed| svcCRMSS|114  LA GARDE ST,...|               3|\n",
      "|1014127336|     1/1/18 1:34|    1/1/18 13:29| 1/1/18 4:34|      YES|0.37216435200000003|        YES|Field Operations|Animal Cruelty(Cr...|             0.125|     Closed| svcCRMSS|734  CLEARVIEW DR...|               7|\n",
      "|1014127337|     1/1/18 6:28|    1/1/18 14:38|1/31/18 8:30|       NO|       -29.74398148|        YES|         Signals|Traffic Signal Op...|       30.08446759|     Closed| svcCRMSS|BANDERA RD and BR...|               7|\n",
      "|1014127338|     1/1/18 6:57|    1/2/18 15:32|1/17/18 8:30|       NO|       -14.70673611|        YES|Code Enforcement|Front Or Side Yar...|       16.06429398|     Closed| svcCRMSS|10133  FIGARO CAN...|               4|\n",
      "|1014127339|     1/1/18 6:58|    1/2/18 15:32|1/17/18 8:30|       NO|       -14.70662037|        YES|Code Enforcement|Front Or Side Yar...|16.063796300000003|     Closed| svcCRMSS|10133  FIGARO CAN...|               4|\n",
      "|1014127340|     1/1/18 6:58|    1/2/18 15:32|1/17/18 8:30|       NO|       -14.70662037|        YES|Code Enforcement|Right Of Way/Side...|       16.06333333|     Closed| svcCRMSS|10133  FIGARO CAN...|               4|\n",
      "|1014127341|     1/1/18 6:59|    1/2/18 15:32|1/17/18 8:30|       NO|       -14.70649306|        YES|Code Enforcement|Front Or Side Yar...|        16.0628588|     Closed| svcCRMSS|10133  FIGARO CAN...|               4|\n",
      "|1014127342|     1/1/18 7:00|    1/2/18 15:32|1/17/18 8:30|       NO|       -14.70649306|        YES|Code Enforcement|Front Or Side Yar...|       16.06237269|     Closed| svcCRMSS|10133  FIGARO CAN...|               4|\n",
      "|1014127343|     1/1/18 7:02|    1/2/18 15:32|1/17/18 8:30|       NO|       -14.70636574|        YES|Code Enforcement|Right Of Way/Side...|       16.06104167|     Closed| svcCRMSS|10133  FIGARO CAN...|               4|\n",
      "|1014127344|     1/1/18 7:02|    1/2/18 15:33|1/17/18 8:30|       NO|          -14.70625|        YES|Code Enforcement|Front Or Side Yar...|       16.06059028|     Closed| svcCRMSS|10129  BOXING PAS...|               4|\n",
      "|1014127345|     1/1/18 7:03|    1/2/18 15:32|1/17/18 8:30|       NO|       -14.70636574|        YES|Code Enforcement|Front Or Side Yar...|       16.06011574|     Closed| svcCRMSS|10129  BOXING PAS...|               4|\n",
      "|1014127346|     1/1/18 7:04|    1/2/18 15:33|1/17/18 8:30|       NO|       -14.70623843|        YES|Code Enforcement|Right Of Way/Side...|       16.05953704|     Closed| svcCRMSS|10129  BOXING PAS...|               4|\n",
      "|1014127347|     1/1/18 7:04|    1/2/18 15:33|1/17/18 8:30|       NO|-14.705891199999998|        YES|Code Enforcement|Front Or Side Yar...|       16.05907407|     Closed| svcCRMSS|834  BARREL POINT...|               4|\n",
      "|1014127348|     1/1/18 7:05|    1/2/18 15:33|1/17/18 8:30|       NO|       -14.70600694|        YES|Code Enforcement|Front Or Side Yar...|       16.05864583|     Closed| svcCRMSS|834  BARREL POINT...|               4|\n",
      "|1014127349|     1/1/18 7:06|    1/2/18 15:33|1/17/18 8:30|       NO|       -14.70576389|        YES|Code Enforcement|Right Of Way/Side...|       16.05819444|     Closed| svcCRMSS|834  BARREL POINT...|               4|\n",
      "|1014127350|     1/1/18 7:06|    1/2/18 15:33|1/17/18 8:30|       NO|       -14.70576389|        YES|Code Enforcement|Front Or Side Yar...|       16.05775463|     Closed| svcCRMSS|834  BARREL POINT...|               4|\n",
      "|1014127351|     1/1/18 7:07|    1/2/18 15:33|1/17/18 8:30|       NO|       -14.70564815|        YES|Code Enforcement|Front Or Side Yar...|       16.05733796|     Closed| svcCRMSS|834  BARREL POINT...|               4|\n",
      "+----------+----------------+----------------+------------+---------+-------------------+-----------+----------------+--------------------+------------------+-----------+---------+--------------------+----------------+\n",
      "only showing top 20 rows\n",
      "\n",
      "root\n",
      " |-- case_id: integer (nullable = true)\n",
      " |-- case_opened_date: string (nullable = true)\n",
      " |-- case_closed_date: string (nullable = true)\n",
      " |-- SLA_due_date: string (nullable = true)\n",
      " |-- case_late: string (nullable = true)\n",
      " |-- num_days_late: double (nullable = true)\n",
      " |-- case_closed: string (nullable = true)\n",
      " |-- dept_division: string (nullable = true)\n",
      " |-- service_request_type: string (nullable = true)\n",
      " |-- SLA_days: double (nullable = true)\n",
      " |-- case_status: string (nullable = true)\n",
      " |-- source_id: string (nullable = true)\n",
      " |-- request_address: string (nullable = true)\n",
      " |-- council_district: integer (nullable = true)\n",
      "\n"
     ]
    },
    {
     "data": {
      "text/plain": [
       "(None, None)"
      ]
     },
     "execution_count": 11,
     "metadata": {},
     "output_type": "execute_result"
    }
   ],
   "source": [
    "case.show(), case.printSchema()"
   ]
  },
  {
   "cell_type": "markdown",
   "metadata": {},
   "source": [
    "# 1. How old is the latest (in terms of days past SLA) currently open issue? How long has the oldest (in terms of days since opened) currently opened issue been open?"
   ]
  },
  {
   "cell_type": "code",
   "execution_count": 46,
   "metadata": {
    "ExecuteTime": {
     "end_time": "2021-05-16T18:22:20.203410Z",
     "start_time": "2021-05-16T18:22:18.005263Z"
    }
   },
   "outputs": [
    {
     "data": {
      "text/plain": [
       "case_closed\n",
       "YES            823594\n",
       "NO              18110\n",
       "dtype: int64"
      ]
     },
     "execution_count": 46,
     "metadata": {},
     "output_type": "execute_result"
    }
   ],
   "source": [
    "case.select(case.case_closed).toPandas().value_counts()"
   ]
  },
  {
   "cell_type": "code",
   "execution_count": 51,
   "metadata": {
    "ExecuteTime": {
     "end_time": "2021-05-16T18:26:36.244517Z",
     "start_time": "2021-05-16T18:26:35.070313Z"
    }
   },
   "outputs": [
    {
     "name": "stdout",
     "output_type": "stream",
     "text": [
      "+------------------+\n",
      "|min(num_days_late)|\n",
      "+------------------+\n",
      "|       0.060810185|\n",
      "+------------------+\n",
      "\n"
     ]
    }
   ],
   "source": [
    "case.where((case.case_closed == 'NO') & (case.num_days_late > 0)).select(min(case.num_days_late)).show()"
   ]
  },
  {
   "cell_type": "code",
   "execution_count": 52,
   "metadata": {
    "ExecuteTime": {
     "end_time": "2021-05-16T18:27:29.333661Z",
     "start_time": "2021-05-16T18:27:28.243427Z"
    }
   },
   "outputs": [
    {
     "name": "stdout",
     "output_type": "stream",
     "text": [
      "+------------------+\n",
      "|max(num_days_late)|\n",
      "+------------------+\n",
      "|       348.6458333|\n",
      "+------------------+\n",
      "\n"
     ]
    }
   ],
   "source": [
    "case.where(case.case_closed == 'NO').select(max(case.num_days_late)).show()"
   ]
  },
  {
   "cell_type": "markdown",
   "metadata": {},
   "source": [
    "# 2. How many Stray Animal cases are there?"
   ]
  },
  {
   "cell_type": "code",
   "execution_count": 19,
   "metadata": {
    "ExecuteTime": {
     "end_time": "2021-05-14T21:10:06.717613Z",
     "start_time": "2021-05-14T21:10:04.289108Z"
    }
   },
   "outputs": [
    {
     "name": "stdout",
     "output_type": "stream",
     "text": [
      "+--------------------+-----+\n",
      "|service_request_type|count|\n",
      "+--------------------+-----+\n",
      "|Stray Animal        |26760|\n",
      "+--------------------+-----+\n",
      "\n"
     ]
    }
   ],
   "source": [
    "case.select('service_request_type').groupBy('service_request_type').count().where(case.service_request_type == 'Stray Animal').show(truncate=False)"
   ]
  },
  {
   "cell_type": "markdown",
   "metadata": {},
   "source": [
    "# 3. How many service requests that are assigned to the Field Operations department (dept_division) are not classified as \"Officer Standby\" request type (service_request_type)?"
   ]
  },
  {
   "cell_type": "code",
   "execution_count": 27,
   "metadata": {
    "ExecuteTime": {
     "end_time": "2021-05-14T21:29:31.481355Z",
     "start_time": "2021-05-14T21:29:30.211436Z"
    }
   },
   "outputs": [
    {
     "data": {
      "text/plain": [
       "113902"
      ]
     },
     "execution_count": 27,
     "metadata": {},
     "output_type": "execute_result"
    }
   ],
   "source": [
    "case.select('service_request_type').where(case.dept_division == 'Field Operations').where(case.service_request_type != 'Officer Standby').count()"
   ]
  },
  {
   "cell_type": "markdown",
   "metadata": {},
   "source": [
    "# 4. Convert the council_district column to a string column."
   ]
  },
  {
   "cell_type": "code",
   "execution_count": 36,
   "metadata": {
    "ExecuteTime": {
     "end_time": "2021-05-14T21:42:51.415898Z",
     "start_time": "2021-05-14T21:42:51.221965Z"
    }
   },
   "outputs": [
    {
     "name": "stdout",
     "output_type": "stream",
     "text": [
      "+----------+----------------+----------------+------------+---------+-------------------+-----------+----------------+--------------------+------------------+-----------+---------+--------------------+--------------------+\n",
      "|   case_id|case_opened_date|case_closed_date|SLA_due_date|case_late|      num_days_late|case_closed|   dept_division|service_request_type|          SLA_days|case_status|source_id|     request_address|council_district_str|\n",
      "+----------+----------------+----------------+------------+---------+-------------------+-----------+----------------+--------------------+------------------+-----------+---------+--------------------+--------------------+\n",
      "|1014127332|     1/1/18 0:42|    1/1/18 12:29|9/26/20 0:42|       NO| -998.5087616000001|        YES|Field Operations|        Stray Animal|             999.0|     Closed| svcCRMLS|2315  EL PASO ST,...|                   5|\n",
      "|1014127333|     1/1/18 0:46|     1/3/18 8:11| 1/5/18 8:30|       NO|-2.0126041669999997|        YES|     Storm Water|Removal Of Obstru...|       4.322222222|     Closed| svcCRMSS|2215  GOLIAD RD, ...|                   3|\n",
      "|1014127334|     1/1/18 0:48|     1/2/18 7:57| 1/5/18 8:30|       NO|       -3.022337963|        YES|     Storm Water|Removal Of Obstru...|       4.320729167|     Closed| svcCRMSS|102  PALFREY ST W...|                   3|\n",
      "|1014127335|     1/1/18 1:29|     1/2/18 8:13|1/17/18 8:30|       NO|       -15.01148148|        YES|Code Enforcement|Front Or Side Yar...|       16.29188657|     Closed| svcCRMSS|114  LA GARDE ST,...|                   3|\n",
      "|1014127336|     1/1/18 1:34|    1/1/18 13:29| 1/1/18 4:34|      YES|0.37216435200000003|        YES|Field Operations|Animal Cruelty(Cr...|             0.125|     Closed| svcCRMSS|734  CLEARVIEW DR...|                   7|\n",
      "|1014127337|     1/1/18 6:28|    1/1/18 14:38|1/31/18 8:30|       NO|       -29.74398148|        YES|         Signals|Traffic Signal Op...|       30.08446759|     Closed| svcCRMSS|BANDERA RD and BR...|                   7|\n",
      "|1014127338|     1/1/18 6:57|    1/2/18 15:32|1/17/18 8:30|       NO|       -14.70673611|        YES|Code Enforcement|Front Or Side Yar...|       16.06429398|     Closed| svcCRMSS|10133  FIGARO CAN...|                   4|\n",
      "|1014127339|     1/1/18 6:58|    1/2/18 15:32|1/17/18 8:30|       NO|       -14.70662037|        YES|Code Enforcement|Front Or Side Yar...|16.063796300000003|     Closed| svcCRMSS|10133  FIGARO CAN...|                   4|\n",
      "|1014127340|     1/1/18 6:58|    1/2/18 15:32|1/17/18 8:30|       NO|       -14.70662037|        YES|Code Enforcement|Right Of Way/Side...|       16.06333333|     Closed| svcCRMSS|10133  FIGARO CAN...|                   4|\n",
      "|1014127341|     1/1/18 6:59|    1/2/18 15:32|1/17/18 8:30|       NO|       -14.70649306|        YES|Code Enforcement|Front Or Side Yar...|        16.0628588|     Closed| svcCRMSS|10133  FIGARO CAN...|                   4|\n",
      "|1014127342|     1/1/18 7:00|    1/2/18 15:32|1/17/18 8:30|       NO|       -14.70649306|        YES|Code Enforcement|Front Or Side Yar...|       16.06237269|     Closed| svcCRMSS|10133  FIGARO CAN...|                   4|\n",
      "|1014127343|     1/1/18 7:02|    1/2/18 15:32|1/17/18 8:30|       NO|       -14.70636574|        YES|Code Enforcement|Right Of Way/Side...|       16.06104167|     Closed| svcCRMSS|10133  FIGARO CAN...|                   4|\n",
      "|1014127344|     1/1/18 7:02|    1/2/18 15:33|1/17/18 8:30|       NO|          -14.70625|        YES|Code Enforcement|Front Or Side Yar...|       16.06059028|     Closed| svcCRMSS|10129  BOXING PAS...|                   4|\n",
      "|1014127345|     1/1/18 7:03|    1/2/18 15:32|1/17/18 8:30|       NO|       -14.70636574|        YES|Code Enforcement|Front Or Side Yar...|       16.06011574|     Closed| svcCRMSS|10129  BOXING PAS...|                   4|\n",
      "|1014127346|     1/1/18 7:04|    1/2/18 15:33|1/17/18 8:30|       NO|       -14.70623843|        YES|Code Enforcement|Right Of Way/Side...|       16.05953704|     Closed| svcCRMSS|10129  BOXING PAS...|                   4|\n",
      "|1014127347|     1/1/18 7:04|    1/2/18 15:33|1/17/18 8:30|       NO|-14.705891199999998|        YES|Code Enforcement|Front Or Side Yar...|       16.05907407|     Closed| svcCRMSS|834  BARREL POINT...|                   4|\n",
      "|1014127348|     1/1/18 7:05|    1/2/18 15:33|1/17/18 8:30|       NO|       -14.70600694|        YES|Code Enforcement|Front Or Side Yar...|       16.05864583|     Closed| svcCRMSS|834  BARREL POINT...|                   4|\n",
      "|1014127349|     1/1/18 7:06|    1/2/18 15:33|1/17/18 8:30|       NO|       -14.70576389|        YES|Code Enforcement|Right Of Way/Side...|       16.05819444|     Closed| svcCRMSS|834  BARREL POINT...|                   4|\n",
      "|1014127350|     1/1/18 7:06|    1/2/18 15:33|1/17/18 8:30|       NO|       -14.70576389|        YES|Code Enforcement|Front Or Side Yar...|       16.05775463|     Closed| svcCRMSS|834  BARREL POINT...|                   4|\n",
      "|1014127351|     1/1/18 7:07|    1/2/18 15:33|1/17/18 8:30|       NO|       -14.70564815|        YES|Code Enforcement|Front Or Side Yar...|       16.05733796|     Closed| svcCRMSS|834  BARREL POINT...|                   4|\n",
      "+----------+----------------+----------------+------------+---------+-------------------+-----------+----------------+--------------------+------------------+-----------+---------+--------------------+--------------------+\n",
      "only showing top 20 rows\n",
      "\n"
     ]
    }
   ],
   "source": [
    "case = case.select('*',case.council_district.cast('string').alias('council_district_str')).drop('council_district')\n",
    "case.show()"
   ]
  },
  {
   "cell_type": "markdown",
   "metadata": {},
   "source": [
    "# 5. Extract the year from the case_closed_date column."
   ]
  },
  {
   "cell_type": "code",
   "execution_count": 53,
   "metadata": {
    "ExecuteTime": {
     "end_time": "2021-05-16T18:29:22.780349Z",
     "start_time": "2021-05-16T18:29:22.761462Z"
    }
   },
   "outputs": [],
   "source": [
    "df = case.withColumnRenamed(\"SLA_due_date\", \"case_due_date\")"
   ]
  },
  {
   "cell_type": "code",
   "execution_count": 54,
   "metadata": {
    "ExecuteTime": {
     "end_time": "2021-05-16T18:29:29.925434Z",
     "start_time": "2021-05-16T18:29:29.603804Z"
    }
   },
   "outputs": [
    {
     "name": "stdout",
     "output_type": "stream",
     "text": [
      "--- Before handling dates\n",
      "+----------------+----------------+-------------+\n",
      "|case_opened_date|case_closed_date|case_due_date|\n",
      "+----------------+----------------+-------------+\n",
      "|     1/1/18 0:42|    1/1/18 12:29| 9/26/20 0:42|\n",
      "|     1/1/18 0:46|     1/3/18 8:11|  1/5/18 8:30|\n",
      "|     1/1/18 0:48|     1/2/18 7:57|  1/5/18 8:30|\n",
      "|     1/1/18 1:29|     1/2/18 8:13| 1/17/18 8:30|\n",
      "|     1/1/18 1:34|    1/1/18 13:29|  1/1/18 4:34|\n",
      "+----------------+----------------+-------------+\n",
      "only showing top 5 rows\n",
      "\n",
      "--- After\n",
      "+-------------------+-------------------+-------------------+\n",
      "|   case_opened_date|   case_closed_date|      case_due_date|\n",
      "+-------------------+-------------------+-------------------+\n",
      "|2018-01-01 00:42:00|2018-01-01 00:42:00|2018-01-01 00:42:00|\n",
      "|2018-01-01 00:46:00|2018-01-01 00:46:00|2018-01-01 00:46:00|\n",
      "|2018-01-01 00:48:00|2018-01-01 00:48:00|2018-01-01 00:48:00|\n",
      "|2018-01-01 01:29:00|2018-01-01 01:29:00|2018-01-01 01:29:00|\n",
      "|2018-01-01 01:34:00|2018-01-01 01:34:00|2018-01-01 01:34:00|\n",
      "+-------------------+-------------------+-------------------+\n",
      "only showing top 5 rows\n",
      "\n"
     ]
    }
   ],
   "source": [
    "print(\"--- Before handling dates\")\n",
    "df.select(\"case_opened_date\", \"case_closed_date\", \"case_due_date\").show(5)\n",
    "\n",
    "fmt = \"M/d/yy H:mm\"\n",
    "df = (\n",
    "    df.withColumn(\"case_opened_date\", to_timestamp(\"case_opened_date\", fmt))\n",
    "    .withColumn(\"case_closed_date\", to_timestamp(\"case_opened_date\", fmt))\n",
    "    .withColumn(\"case_due_date\", to_timestamp(\"case_opened_date\", fmt))\n",
    ")\n",
    "\n",
    "print(\"--- After\")\n",
    "df.select(\"case_opened_date\", \"case_closed_date\", \"case_due_date\").show(5)"
   ]
  },
  {
   "cell_type": "code",
   "execution_count": 55,
   "metadata": {
    "ExecuteTime": {
     "end_time": "2021-05-16T18:30:16.354850Z",
     "start_time": "2021-05-16T18:30:16.213713Z"
    }
   },
   "outputs": [
    {
     "name": "stdout",
     "output_type": "stream",
     "text": [
      "+----------------------+\n",
      "|year(case_closed_date)|\n",
      "+----------------------+\n",
      "|                  2018|\n",
      "|                  2018|\n",
      "|                  2018|\n",
      "|                  2018|\n",
      "|                  2018|\n",
      "|                  2018|\n",
      "|                  2018|\n",
      "|                  2018|\n",
      "|                  2018|\n",
      "|                  2018|\n",
      "|                  2018|\n",
      "|                  2018|\n",
      "|                  2018|\n",
      "|                  2018|\n",
      "|                  2018|\n",
      "|                  2018|\n",
      "|                  2018|\n",
      "|                  2018|\n",
      "|                  2018|\n",
      "|                  2018|\n",
      "+----------------------+\n",
      "only showing top 20 rows\n",
      "\n"
     ]
    }
   ],
   "source": [
    "df.select(year(df.case_closed_date)).show()"
   ]
  },
  {
   "cell_type": "markdown",
   "metadata": {},
   "source": [
    "# 6. Convert num_days_late from days to hours in new columns num_hours_late."
   ]
  },
  {
   "cell_type": "code",
   "execution_count": 56,
   "metadata": {
    "ExecuteTime": {
     "end_time": "2021-05-16T18:32:19.993610Z",
     "start_time": "2021-05-16T18:32:19.841826Z"
    }
   },
   "outputs": [
    {
     "name": "stdout",
     "output_type": "stream",
     "text": [
      "+----------+----------------+----------------+------------+---------+-------------------+-----------+----------------+--------------------+------------------+-----------+---------+--------------------+--------------------+--------------------+\n",
      "|   case_id|case_opened_date|case_closed_date|SLA_due_date|case_late|      num_days_late|case_closed|   dept_division|service_request_type|          SLA_days|case_status|source_id|     request_address|council_district_str|      num_hours_late|\n",
      "+----------+----------------+----------------+------------+---------+-------------------+-----------+----------------+--------------------+------------------+-----------+---------+--------------------+--------------------+--------------------+\n",
      "|1014127332|     1/1/18 0:42|    1/1/18 12:29|9/26/20 0:42|       NO| -998.5087616000001|        YES|Field Operations|        Stray Animal|             999.0|     Closed| svcCRMLS|2315  EL PASO ST,...|                   5|  -41.60453173333334|\n",
      "|1014127333|     1/1/18 0:46|     1/3/18 8:11| 1/5/18 8:30|       NO|-2.0126041669999997|        YES|     Storm Water|Removal Of Obstru...|       4.322222222|     Closed| svcCRMSS|2215  GOLIAD RD, ...|                   3|-0.08385850695833331|\n",
      "|1014127334|     1/1/18 0:48|     1/2/18 7:57| 1/5/18 8:30|       NO|       -3.022337963|        YES|     Storm Water|Removal Of Obstru...|       4.320729167|     Closed| svcCRMSS|102  PALFREY ST W...|                   3|-0.12593074845833332|\n",
      "|1014127335|     1/1/18 1:29|     1/2/18 8:13|1/17/18 8:30|       NO|       -15.01148148|        YES|Code Enforcement|Front Or Side Yar...|       16.29188657|     Closed| svcCRMSS|114  LA GARDE ST,...|                   3|        -0.625478395|\n",
      "|1014127336|     1/1/18 1:34|    1/1/18 13:29| 1/1/18 4:34|      YES|0.37216435200000003|        YES|Field Operations|Animal Cruelty(Cr...|             0.125|     Closed| svcCRMSS|734  CLEARVIEW DR...|                   7|0.015506848000000002|\n",
      "|1014127337|     1/1/18 6:28|    1/1/18 14:38|1/31/18 8:30|       NO|       -29.74398148|        YES|         Signals|Traffic Signal Op...|       30.08446759|     Closed| svcCRMSS|BANDERA RD and BR...|                   7| -1.2393325616666666|\n",
      "|1014127338|     1/1/18 6:57|    1/2/18 15:32|1/17/18 8:30|       NO|       -14.70673611|        YES|Code Enforcement|Front Or Side Yar...|       16.06429398|     Closed| svcCRMSS|10133  FIGARO CAN...|                   4|      -0.61278067125|\n",
      "|1014127339|     1/1/18 6:58|    1/2/18 15:32|1/17/18 8:30|       NO|       -14.70662037|        YES|Code Enforcement|Front Or Side Yar...|16.063796300000003|     Closed| svcCRMSS|10133  FIGARO CAN...|                   4|      -0.61277584875|\n",
      "|1014127340|     1/1/18 6:58|    1/2/18 15:32|1/17/18 8:30|       NO|       -14.70662037|        YES|Code Enforcement|Right Of Way/Side...|       16.06333333|     Closed| svcCRMSS|10133  FIGARO CAN...|                   4|      -0.61277584875|\n",
      "|1014127341|     1/1/18 6:59|    1/2/18 15:32|1/17/18 8:30|       NO|       -14.70649306|        YES|Code Enforcement|Front Or Side Yar...|        16.0628588|     Closed| svcCRMSS|10133  FIGARO CAN...|                   4| -0.6127705441666667|\n",
      "|1014127342|     1/1/18 7:00|    1/2/18 15:32|1/17/18 8:30|       NO|       -14.70649306|        YES|Code Enforcement|Front Or Side Yar...|       16.06237269|     Closed| svcCRMSS|10133  FIGARO CAN...|                   4| -0.6127705441666667|\n",
      "|1014127343|     1/1/18 7:02|    1/2/18 15:32|1/17/18 8:30|       NO|       -14.70636574|        YES|Code Enforcement|Right Of Way/Side...|       16.06104167|     Closed| svcCRMSS|10133  FIGARO CAN...|                   4| -0.6127652391666667|\n",
      "|1014127344|     1/1/18 7:02|    1/2/18 15:33|1/17/18 8:30|       NO|          -14.70625|        YES|Code Enforcement|Front Or Side Yar...|       16.06059028|     Closed| svcCRMSS|10129  BOXING PAS...|                   4| -0.6127604166666667|\n",
      "|1014127345|     1/1/18 7:03|    1/2/18 15:32|1/17/18 8:30|       NO|       -14.70636574|        YES|Code Enforcement|Front Or Side Yar...|       16.06011574|     Closed| svcCRMSS|10129  BOXING PAS...|                   4| -0.6127652391666667|\n",
      "|1014127346|     1/1/18 7:04|    1/2/18 15:33|1/17/18 8:30|       NO|       -14.70623843|        YES|Code Enforcement|Right Of Way/Side...|       16.05953704|     Closed| svcCRMSS|10129  BOXING PAS...|                   4| -0.6127599345833333|\n",
      "|1014127347|     1/1/18 7:04|    1/2/18 15:33|1/17/18 8:30|       NO|-14.705891199999998|        YES|Code Enforcement|Front Or Side Yar...|       16.05907407|     Closed| svcCRMSS|834  BARREL POINT...|                   4| -0.6127454666666666|\n",
      "|1014127348|     1/1/18 7:05|    1/2/18 15:33|1/17/18 8:30|       NO|       -14.70600694|        YES|Code Enforcement|Front Or Side Yar...|       16.05864583|     Closed| svcCRMSS|834  BARREL POINT...|                   4| -0.6127502891666666|\n",
      "|1014127349|     1/1/18 7:06|    1/2/18 15:33|1/17/18 8:30|       NO|       -14.70576389|        YES|Code Enforcement|Right Of Way/Side...|       16.05819444|     Closed| svcCRMSS|834  BARREL POINT...|                   4| -0.6127401620833334|\n",
      "|1014127350|     1/1/18 7:06|    1/2/18 15:33|1/17/18 8:30|       NO|       -14.70576389|        YES|Code Enforcement|Front Or Side Yar...|       16.05775463|     Closed| svcCRMSS|834  BARREL POINT...|                   4| -0.6127401620833334|\n",
      "|1014127351|     1/1/18 7:07|    1/2/18 15:33|1/17/18 8:30|       NO|       -14.70564815|        YES|Code Enforcement|Front Or Side Yar...|       16.05733796|     Closed| svcCRMSS|834  BARREL POINT...|                   4| -0.6127353395833334|\n",
      "+----------+----------------+----------------+------------+---------+-------------------+-----------+----------------+--------------------+------------------+-----------+---------+--------------------+--------------------+--------------------+\n",
      "only showing top 20 rows\n",
      "\n"
     ]
    }
   ],
   "source": [
    "case.withColumn('num_hours_late', case.num_days_late / 24).show()"
   ]
  },
  {
   "cell_type": "markdown",
   "metadata": {},
   "source": [
    "# 7. Join the case data with the source and department data."
   ]
  },
  {
   "cell_type": "code",
   "execution_count": 65,
   "metadata": {
    "ExecuteTime": {
     "end_time": "2021-05-16T18:40:07.360696Z",
     "start_time": "2021-05-16T18:40:07.069985Z"
    }
   },
   "outputs": [
    {
     "name": "stdout",
     "output_type": "stream",
     "text": [
      "+----------------+---------+----------+----------------+----------------+------------+---------+-------------------+-----------+--------------------+------------------+-----------+--------------------+--------------------+---------------+--------------------+----------------------+-------------------+\n",
      "|   dept_division|source_id|   case_id|case_opened_date|case_closed_date|SLA_due_date|case_late|      num_days_late|case_closed|service_request_type|          SLA_days|case_status|     request_address|council_district_str|source_username|           dept_name|standardized_dept_name|dept_subject_to_SLA|\n",
      "+----------------+---------+----------+----------------+----------------+------------+---------+-------------------+-----------+--------------------+------------------+-----------+--------------------+--------------------+---------------+--------------------+----------------------+-------------------+\n",
      "|Field Operations| svcCRMLS|1014127332|     1/1/18 0:42|    1/1/18 12:29|9/26/20 0:42|       NO| -998.5087616000001|        YES|        Stray Animal|             999.0|     Closed|2315  EL PASO ST,...|                   5|       svcCRMLS|Animal Care Services|  Animal Care Services|                YES|\n",
      "|     Storm Water| svcCRMSS|1014127333|     1/1/18 0:46|     1/3/18 8:11| 1/5/18 8:30|       NO|-2.0126041669999997|        YES|Removal Of Obstru...|       4.322222222|     Closed|2215  GOLIAD RD, ...|                   3|       svcCRMSS|Trans & Cap Impro...|  Trans & Cap Impro...|                YES|\n",
      "|     Storm Water| svcCRMSS|1014127334|     1/1/18 0:48|     1/2/18 7:57| 1/5/18 8:30|       NO|       -3.022337963|        YES|Removal Of Obstru...|       4.320729167|     Closed|102  PALFREY ST W...|                   3|       svcCRMSS|Trans & Cap Impro...|  Trans & Cap Impro...|                YES|\n",
      "|Code Enforcement| svcCRMSS|1014127335|     1/1/18 1:29|     1/2/18 8:13|1/17/18 8:30|       NO|       -15.01148148|        YES|Front Or Side Yar...|       16.29188657|     Closed|114  LA GARDE ST,...|                   3|       svcCRMSS|Code Enforcement ...|  DSD/Code Enforcement|                YES|\n",
      "|Field Operations| svcCRMSS|1014127336|     1/1/18 1:34|    1/1/18 13:29| 1/1/18 4:34|      YES|0.37216435200000003|        YES|Animal Cruelty(Cr...|             0.125|     Closed|734  CLEARVIEW DR...|                   7|       svcCRMSS|Animal Care Services|  Animal Care Services|                YES|\n",
      "|         Signals| svcCRMSS|1014127337|     1/1/18 6:28|    1/1/18 14:38|1/31/18 8:30|       NO|       -29.74398148|        YES|Traffic Signal Op...|       30.08446759|     Closed|BANDERA RD and BR...|                   7|       svcCRMSS|Trans & Cap Impro...|  Trans & Cap Impro...|                YES|\n",
      "|Code Enforcement| svcCRMSS|1014127338|     1/1/18 6:57|    1/2/18 15:32|1/17/18 8:30|       NO|       -14.70673611|        YES|Front Or Side Yar...|       16.06429398|     Closed|10133  FIGARO CAN...|                   4|       svcCRMSS|Code Enforcement ...|  DSD/Code Enforcement|                YES|\n",
      "|Code Enforcement| svcCRMSS|1014127339|     1/1/18 6:58|    1/2/18 15:32|1/17/18 8:30|       NO|       -14.70662037|        YES|Front Or Side Yar...|16.063796300000003|     Closed|10133  FIGARO CAN...|                   4|       svcCRMSS|Code Enforcement ...|  DSD/Code Enforcement|                YES|\n",
      "|Code Enforcement| svcCRMSS|1014127340|     1/1/18 6:58|    1/2/18 15:32|1/17/18 8:30|       NO|       -14.70662037|        YES|Right Of Way/Side...|       16.06333333|     Closed|10133  FIGARO CAN...|                   4|       svcCRMSS|Code Enforcement ...|  DSD/Code Enforcement|                YES|\n",
      "|Code Enforcement| svcCRMSS|1014127341|     1/1/18 6:59|    1/2/18 15:32|1/17/18 8:30|       NO|       -14.70649306|        YES|Front Or Side Yar...|        16.0628588|     Closed|10133  FIGARO CAN...|                   4|       svcCRMSS|Code Enforcement ...|  DSD/Code Enforcement|                YES|\n",
      "|Code Enforcement| svcCRMSS|1014127342|     1/1/18 7:00|    1/2/18 15:32|1/17/18 8:30|       NO|       -14.70649306|        YES|Front Or Side Yar...|       16.06237269|     Closed|10133  FIGARO CAN...|                   4|       svcCRMSS|Code Enforcement ...|  DSD/Code Enforcement|                YES|\n",
      "|Code Enforcement| svcCRMSS|1014127343|     1/1/18 7:02|    1/2/18 15:32|1/17/18 8:30|       NO|       -14.70636574|        YES|Right Of Way/Side...|       16.06104167|     Closed|10133  FIGARO CAN...|                   4|       svcCRMSS|Code Enforcement ...|  DSD/Code Enforcement|                YES|\n",
      "|Code Enforcement| svcCRMSS|1014127344|     1/1/18 7:02|    1/2/18 15:33|1/17/18 8:30|       NO|          -14.70625|        YES|Front Or Side Yar...|       16.06059028|     Closed|10129  BOXING PAS...|                   4|       svcCRMSS|Code Enforcement ...|  DSD/Code Enforcement|                YES|\n",
      "|Code Enforcement| svcCRMSS|1014127345|     1/1/18 7:03|    1/2/18 15:32|1/17/18 8:30|       NO|       -14.70636574|        YES|Front Or Side Yar...|       16.06011574|     Closed|10129  BOXING PAS...|                   4|       svcCRMSS|Code Enforcement ...|  DSD/Code Enforcement|                YES|\n",
      "|Code Enforcement| svcCRMSS|1014127346|     1/1/18 7:04|    1/2/18 15:33|1/17/18 8:30|       NO|       -14.70623843|        YES|Right Of Way/Side...|       16.05953704|     Closed|10129  BOXING PAS...|                   4|       svcCRMSS|Code Enforcement ...|  DSD/Code Enforcement|                YES|\n",
      "|Code Enforcement| svcCRMSS|1014127347|     1/1/18 7:04|    1/2/18 15:33|1/17/18 8:30|       NO|-14.705891199999998|        YES|Front Or Side Yar...|       16.05907407|     Closed|834  BARREL POINT...|                   4|       svcCRMSS|Code Enforcement ...|  DSD/Code Enforcement|                YES|\n",
      "|Code Enforcement| svcCRMSS|1014127348|     1/1/18 7:05|    1/2/18 15:33|1/17/18 8:30|       NO|       -14.70600694|        YES|Front Or Side Yar...|       16.05864583|     Closed|834  BARREL POINT...|                   4|       svcCRMSS|Code Enforcement ...|  DSD/Code Enforcement|                YES|\n",
      "|Code Enforcement| svcCRMSS|1014127349|     1/1/18 7:06|    1/2/18 15:33|1/17/18 8:30|       NO|       -14.70576389|        YES|Right Of Way/Side...|       16.05819444|     Closed|834  BARREL POINT...|                   4|       svcCRMSS|Code Enforcement ...|  DSD/Code Enforcement|                YES|\n",
      "|Code Enforcement| svcCRMSS|1014127350|     1/1/18 7:06|    1/2/18 15:33|1/17/18 8:30|       NO|       -14.70576389|        YES|Front Or Side Yar...|       16.05775463|     Closed|834  BARREL POINT...|                   4|       svcCRMSS|Code Enforcement ...|  DSD/Code Enforcement|                YES|\n",
      "|Code Enforcement| svcCRMSS|1014127351|     1/1/18 7:07|    1/2/18 15:33|1/17/18 8:30|       NO|       -14.70564815|        YES|Front Or Side Yar...|       16.05733796|     Closed|834  BARREL POINT...|                   4|       svcCRMSS|Code Enforcement ...|  DSD/Code Enforcement|                YES|\n",
      "+----------------+---------+----------+----------------+----------------+------------+---------+-------------------+-----------+--------------------+------------------+-----------+--------------------+--------------------+---------------+--------------------+----------------------+-------------------+\n",
      "only showing top 20 rows\n",
      "\n"
     ]
    }
   ],
   "source": [
    "case_source = case.join(source, on='source_id', how='left')\n",
    "case_source_dept = case_source.join(dept, on='dept_division', how='left')\n",
    "case_source_dept.show()"
   ]
  },
  {
   "cell_type": "markdown",
   "metadata": {},
   "source": [
    "# 8. Are there any cases that do not have a request source?"
   ]
  },
  {
   "cell_type": "code",
   "execution_count": 68,
   "metadata": {
    "ExecuteTime": {
     "end_time": "2021-05-16T18:42:34.107104Z",
     "start_time": "2021-05-16T18:42:30.949304Z"
    }
   },
   "outputs": [
    {
     "data": {
      "text/plain": [
       "source_username    False\n",
       "dtype: bool"
      ]
     },
     "execution_count": 68,
     "metadata": {},
     "output_type": "execute_result"
    }
   ],
   "source": [
    "case_source_dept.select(case_source_dept.source_username).toPandas().isna().any()"
   ]
  },
  {
   "cell_type": "code",
   "execution_count": 69,
   "metadata": {
    "ExecuteTime": {
     "end_time": "2021-05-16T18:43:03.459581Z",
     "start_time": "2021-05-16T18:43:00.946449Z"
    }
   },
   "outputs": [
    {
     "data": {
      "text/plain": [
       "source_username       \n",
       "CRM_Listener              195416\n",
       "svcCRMSS                  113585\n",
       "Terri Barron               19840\n",
       "Nadine Olmos               19832\n",
       "Mary A Torres              19570\n",
       "Isis Mendoza               19238\n",
       "Guadalupe Rodriguez        18735\n",
       "svcCRMLS                   18445\n",
       "Delilah Sanchez            18103\n",
       "George Ponce               17556\n",
       "San Juanita Villarreal     17506\n",
       "Jessica Mendoza            17492\n",
       "Norma K. Sotoodeh          17234\n",
       "Tawona Martin              16173\n",
       "Maria Pena                 15817\n",
       "Chris Castro               15747\n",
       "Shirley Sanchez            15607\n",
       "Jessica West               15088\n",
       "Yvonne Casias              15080\n",
       "Andrea Alvarez             14984\n",
       "Danita Mitchell            14955\n",
       "Jose Acosta                14044\n",
       "Kimberly Green-Woods       13565\n",
       "Kimberly Green             13565\n",
       "Debra Lara                 13481\n",
       "Sylvia Sanchez             13076\n",
       "Ronald S. Sorrell          11111\n",
       "Maria Woodard              11010\n",
       "Socorro Quiara             10656\n",
       "Lori Lara                  10651\n",
       "James Garcia               10301\n",
       "Amy Cardenas                9590\n",
       "Eva T. Kleiber              9191\n",
       "Miranda Tovar               7452\n",
       "Erica Flores                7407\n",
       "Melissa Carmona             5530\n",
       "Vivian Mendez               4009\n",
       "Pamela Boykin               3913\n",
       "Cecilia M. Carmona          3909\n",
       "Leticia Garcia              3859\n",
       "Michelle Urrutia            3640\n",
       "Mariana Rios                3125\n",
       "Pamela K. Baccus            3016\n",
       "Samantha McLaughlin         2827\n",
       "Betty De Hoyos              2806\n",
       "Vanessa Burciaga            2021\n",
       "Steven Martinez             1841\n",
       "Michelle San Miguel         1833\n",
       "Renee Key                   1705\n",
       "Latreece Towers             1654\n",
       "Marisol Villarreal          1557\n",
       "Melanie Lopez               1352\n",
       "Leonard Silva               1289\n",
       "Carmen Cura                 1212\n",
       "Lisa Lyttle                 1141\n",
       "Jessica Pina                 875\n",
       "Genese Woisin                843\n",
       "Sabrina Morales              777\n",
       "Myrtha Sanchez               730\n",
       "Kiara Chavarria              728\n",
       "CityFlag                     673\n",
       "Salvador Valdez              492\n",
       "Elisa Tejeda                 478\n",
       "Rene Bomar                   437\n",
       "Ebony Ruffin                 373\n",
       "Beatriz Urbina               367\n",
       "Michelle Lingenfelder        327\n",
       "Refugio Campos               300\n",
       "Madilyn Loredo               296\n",
       "Merlene Blodgett             251\n",
       "Edward Gonzalez              251\n",
       "Laura Davis                  226\n",
       "Paula Stallcup               213\n",
       "Jessica Amezcua              200\n",
       "Andrew Trexler               186\n",
       "Deborah Gunn                 182\n",
       "Marisa Ozuna                 154\n",
       "Michelle Bah                 152\n",
       "Thelma Martinez              146\n",
       "Julie Cordero                140\n",
       "Ryan Garza                   138\n",
       "Anastasia Harrison           133\n",
       "Richard Sanchez              130\n",
       "Steven Peterson              124\n",
       "Gabriela Gonzales            119\n",
       "Jarvis Soileau                99\n",
       "Samantha Wickwire             95\n",
       "Marcus Peoples                93\n",
       "Bryan Naylor                  89\n",
       "Colt Osburn                   85\n",
       "Pascual Melgoza               85\n",
       "Gabriel Guzman                78\n",
       "Edward Mungia                 70\n",
       "Matthew Trevino               64\n",
       "Debra Dehlinger               57\n",
       "Raul Ubides                   45\n",
       "Don Vasser                    45\n",
       "Frederick Chapa               43\n",
       "Joseph Bravo                  43\n",
       "Jeanette Morin                42\n",
       "Frank Ramirez                 34\n",
       "Alex Franklin                 33\n",
       "Ismael Herrera                33\n",
       "Chris Villa                   29\n",
       "Matthew Gilbert               27\n",
       "Priscilla Tillman             27\n",
       "Yojani Hernandez              21\n",
       "Bianca Maldonado              20\n",
       "Maribel Garcia                19\n",
       "Andrew Texler                 19\n",
       "Darlene Luna                  18\n",
       "Nina Parker                   18\n",
       "Landry Stafford               17\n",
       "Deborah Flores (SWMD)         17\n",
       "Samuel Coronado               13\n",
       "Blanca Rosa Wilkins           12\n",
       "Babette Olson                 11\n",
       "Celeste Brown                 10\n",
       "Laura Garza                    9\n",
       "Christine Gutierrez            8\n",
       "William F. Trynoski            7\n",
       "Beau Anderson                  7\n",
       "Elizabeth Stephens             6\n",
       "Vincent Kosub                  6\n",
       "Sakib Shaikh                   5\n",
       "Jeremy Sifuentes               3\n",
       "Raul Olveda                    3\n",
       "Linda Bibles                   3\n",
       "Andy Greene                    2\n",
       "Jerry Robles                   2\n",
       "Erika Phillips                 2\n",
       "Danette Brown                  2\n",
       "Samantha Garza                 2\n",
       "Georgette Goacher              2\n",
       "Lexi Bachran                   1\n",
       "Milee Ray                      1\n",
       "Sergio Gonzales                1\n",
       "Chrissy McCain                 1\n",
       "Emilie Christian               1\n",
       "Janelle Lopez                  1\n",
       "dtype: int64"
      ]
     },
     "execution_count": 69,
     "metadata": {},
     "output_type": "execute_result"
    }
   ],
   "source": [
    "case_source_dept.select(case_source_dept.source_username).toPandas().value_counts()"
   ]
  },
  {
   "cell_type": "markdown",
   "metadata": {},
   "source": [
    "# 9. What are the top 10 service request types in terms of number of requests?"
   ]
  },
  {
   "cell_type": "code",
   "execution_count": 87,
   "metadata": {
    "ExecuteTime": {
     "end_time": "2021-05-16T18:56:48.453768Z",
     "start_time": "2021-05-16T18:56:46.647509Z"
    }
   },
   "outputs": [
    {
     "name": "stdout",
     "output_type": "stream",
     "text": [
      "+--------------------------------+-----+\n",
      "|service_request_type            |count|\n",
      "+--------------------------------+-----+\n",
      "|No Pickup                       |86855|\n",
      "|Overgrown Yard/Trash            |65895|\n",
      "|Bandit Signs                    |32910|\n",
      "|Damaged Cart                    |30338|\n",
      "|Front Or Side Yard Parking      |28794|\n",
      "|Stray Animal                    |26760|\n",
      "|Aggressive Animal(Non-Critical) |24882|\n",
      "|Cart Exchange Request           |22024|\n",
      "|Junk Vehicle On Private Property|21473|\n",
      "|Pot Hole Repair                 |20616|\n",
      "+--------------------------------+-----+\n",
      "only showing top 10 rows\n",
      "\n"
     ]
    }
   ],
   "source": [
    "case.select('service_request_type').groupBy('service_request_type').count().sort(desc('count')).show(10,truncate=False)"
   ]
  },
  {
   "cell_type": "markdown",
   "metadata": {},
   "source": [
    "# 10. What are the top 10 service request types in terms of average days late?"
   ]
  },
  {
   "cell_type": "code",
   "execution_count": 85,
   "metadata": {
    "ExecuteTime": {
     "end_time": "2021-05-16T18:55:17.667899Z",
     "start_time": "2021-05-16T18:55:15.626814Z"
    }
   },
   "outputs": [
    {
     "name": "stdout",
     "output_type": "stream",
     "text": [
      "+--------------------------------------+-------------+\n",
      "|service_request_type                  |avg_days_late|\n",
      "+--------------------------------------+-------------+\n",
      "|Zoning: Junk Yards                    |175.96       |\n",
      "|Labeling for Used Mattress            |162.43       |\n",
      "|Record Keeping of Used Mattresses     |154.0        |\n",
      "|Signage Requied for Sale of Used Mattr|151.64       |\n",
      "|Storage of Used Mattress              |142.11       |\n",
      "|Zoning: Recycle Yard                  |135.93       |\n",
      "|Donation Container Enforcement        |131.76       |\n",
      "|License Requied Used Mattress Sales   |128.8        |\n",
      "|Traffic Signal Graffiti               |77.9         |\n",
      "|Complaint                             |72.52        |\n",
      "+--------------------------------------+-------------+\n",
      "only showing top 10 rows\n",
      "\n"
     ]
    }
   ],
   "source": [
    "case.groupBy('service_request_type').agg(round(mean(case.num_days_late),2).alias('avg_days_late')).sort(desc('avg_days_late')).show(10,truncate=False)"
   ]
  },
  {
   "cell_type": "markdown",
   "metadata": {},
   "source": [
    "# 11. Does number of days late depend on department?"
   ]
  },
  {
   "cell_type": "code",
   "execution_count": 89,
   "metadata": {
    "ExecuteTime": {
     "end_time": "2021-05-16T18:57:38.697859Z",
     "start_time": "2021-05-16T18:57:36.335360Z"
    }
   },
   "outputs": [
    {
     "name": "stdout",
     "output_type": "stream",
     "text": [
      "+-------------------------+-------------+\n",
      "|dept_name                |avg_days_late|\n",
      "+-------------------------+-------------+\n",
      "|null                     |135.93       |\n",
      "|Customer Service         |59.74        |\n",
      "|Development Services     |13.43        |\n",
      "|Solid Waste Management   |-2.2         |\n",
      "|Metro Health             |-4.91        |\n",
      "|Parks and Recreation     |-5.25        |\n",
      "|Trans & Cap Improvements |-20.61       |\n",
      "|Code Enforcement Services|-38.7        |\n",
      "|Animal Care Services     |-226.52      |\n",
      "|City Council             |null         |\n",
      "+-------------------------+-------------+\n",
      "\n"
     ]
    }
   ],
   "source": [
    "case_source_dept.groupBy('dept_name').agg(round(mean(case_source_dept.num_days_late),2).alias('avg_days_late')).sort(desc('avg_days_late')).show(truncate=False)"
   ]
  },
  {
   "cell_type": "markdown",
   "metadata": {},
   "source": [
    "# 12. How do number of days late depend on department and request type?\n",
    "\n",
    "You might have noticed that the latest date in the dataset is fairly far off from the present day. To account for this, replace any occurances of the current time with the maximum date from the dataset."
   ]
  },
  {
   "cell_type": "code",
   "execution_count": 102,
   "metadata": {
    "ExecuteTime": {
     "end_time": "2021-05-16T19:07:03.888948Z",
     "start_time": "2021-05-16T19:07:00.905817Z"
    }
   },
   "outputs": [
    {
     "name": "stdout",
     "output_type": "stream",
     "text": [
      "+-------------------------+--------------------------------------+-------------+\n",
      "|dept_name                |service_request_type                  |avg_days_late|\n",
      "+-------------------------+--------------------------------------+-------------+\n",
      "|null                     |Zoning: Recycle Yard                  |135.93       |\n",
      "|Animal Care Services     |Trapped/Confined Animal               |0.25         |\n",
      "|Animal Care Services     |Stray Animal                          |-998.81      |\n",
      "|Animal Care Services     |Spay/Neuter Request Response          |-6.98        |\n",
      "|Animal Care Services     |Public Nuisance(Own Animal)           |-2.2         |\n",
      "|Animal Care Services     |Officer Standby                       |-0.07        |\n",
      "|Animal Care Services     |Injured Animal(Critical)              |-0.07        |\n",
      "|Animal Care Services     |City Council Animal Request           |-1.55        |\n",
      "|Animal Care Services     |Animal Permits Request                |22.2         |\n",
      "|Animal Care Services     |Animal Neglect                        |7.33         |\n",
      "|Animal Care Services     |Animal Cruelty(Critical)              |-0.06        |\n",
      "|Animal Care Services     |Animal Bite(Non-Critical)             |-2.51        |\n",
      "|Animal Care Services     |Animal Bite(Critical)                 |0.02         |\n",
      "|Animal Care Services     |Aggressive Animal(Non-Critical)       |2.65         |\n",
      "|Animal Care Services     |Aggressive Animal(Critical)           |16.7         |\n",
      "|City Council             |Request for Research/Information      |null         |\n",
      "|City Council             |CCO_Request for Research/Information_1|null         |\n",
      "|Code Enforcement Services|Zoning: Visual Obstruction            |-54.32       |\n",
      "|Code Enforcement Services|Zoning: Setbacks                      |-85.32       |\n",
      "|Code Enforcement Services|Zoning: Oversized Vehicles            |-4.67        |\n",
      "+-------------------------+--------------------------------------+-------------+\n",
      "only showing top 20 rows\n",
      "\n"
     ]
    }
   ],
   "source": [
    "case_source_dept.groupBy('dept_name','service_request_type').agg(round(mean(case_source_dept.num_days_late),2).alias('avg_days_late')).sort(asc('dept_name'),desc('service_request_type'),desc('avg_days_late')).show(truncate=False)"
   ]
  },
  {
   "cell_type": "code",
   "execution_count": 108,
   "metadata": {
    "ExecuteTime": {
     "end_time": "2021-05-16T19:13:53.735081Z",
     "start_time": "2021-05-16T19:13:45.992784Z"
    },
    "scrolled": false
   },
   "outputs": [
    {
     "name": "stdout",
     "output_type": "stream",
     "text": [
      "+----------------------------------------------+----+--------------------+------------+-------------------------+------------------+--------------------+------------------+--------------------+----------------------+------------------------+\n",
      "|service_request_type                          |null|Animal Care Services|City Council|Code Enforcement Services|Customer Service  |Development Services|Metro Health      |Parks and Recreation|Solid Waste Management|Trans & Cap Improvements|\n",
      "+----------------------------------------------+----+--------------------+------------+-------------------------+------------------+--------------------+------------------+--------------------+----------------------+------------------------+\n",
      "|\"Vacant Lot-City (12\"\")\"                      |null|null                |null        |-45.21877967939106       |null              |null                |null              |null                |null                  |null                    |\n",
      "|\"Vacant Lot-City (48\"\")\"                      |null|null                |null        |-42.632767744083644      |null              |null                |null              |null                |null                  |null                    |\n",
      "|\"Vacant Lot-County (12\"\")\"                    |null|null                |null        |-36.232064043200005      |null              |null                |null              |null                |null                  |null                    |\n",
      "|\"Vacant Lot-County (48\"\")\"                    |null|null                |null        |-40.71908742742308       |null              |null                |null              |null                |null                  |null                    |\n",
      "|\"Vacant Lot-Private (12\"\")\"                   |null|null                |null        |-40.57290981337572       |null              |null                |null              |null                |null                  |null                    |\n",
      "|\"Vacant Lot-Private (48\"\")\"                   |null|null                |null        |-40.586750940029006      |null              |null                |null              |null                |null                  |null                    |\n",
      "|\"Vacant Lot-State (12\"\")\"                     |null|null                |null        |-50.434000731157894      |null              |null                |null              |null                |null                  |null                    |\n",
      "|\"Vacant Lot-State (48\"\")\"                     |null|null                |null        |-42.925429012933336      |null              |null                |null              |null                |null                  |null                    |\n",
      "|1st Call Bagged Leaves                        |null|null                |null        |null                     |null              |null                |null              |null                |-3.868991989858192    |null                    |\n",
      "|2nd Call Bagged Leaves                        |null|null                |null        |null                     |null              |null                |null              |null                |-4.212107162343529    |null                    |\n",
      "|3rd Call Bagged Leaves with Fee               |null|null                |null        |null                     |null              |null                |null              |null                |-3.152896412          |null                    |\n",
      "|ADA Infrastructure Complaint/Grievance        |null|null                |null        |null                     |null              |null                |null              |null                |null                  |-11.841508136999998     |\n",
      "|ADA Obstructions                              |null|null                |null        |-13.22349537             |null              |null                |null              |null                |null                  |null                    |\n",
      "|Absentee Property Assessment-Posting          |null|null                |null        |-14.231748829519532      |null              |null                |null              |null                |null                  |null                    |\n",
      "|Accident Problem Investigation                |null|null                |null        |null                     |null              |null                |null              |null                |null                  |-22.97103045993122      |\n",
      "|Additional Cart Request                       |null|null                |null        |null                     |null              |null                |null              |null                |-5.06350976684767     |null                    |\n",
      "|Additional Garbage Container - with Fee       |null|null                |null        |null                     |null              |null                |null              |null                |-2.920198210360159    |null                    |\n",
      "|Additional Organics Cart Request              |null|null                |null        |null                     |null              |null                |null              |null                |-5.997874052909091    |null                    |\n",
      "|Aggressive Animal(Critical)                   |null|16.696368811892246  |null        |null                     |null              |null                |null              |null                |null                  |null                    |\n",
      "|Aggressive Animal(Non-Critical)               |null|2.6450338831632574  |null        |null                     |null              |null                |null              |null                |null                  |null                    |\n",
      "|All-Way Stop Study                            |null|null                |null        |null                     |null              |null                |null              |null                |null                  |-35.85221697446667      |\n",
      "|Alley Address Required                        |null|null                |null        |-2.6345046288000002      |null              |null                |null              |null                |null                  |null                    |\n",
      "|Alley Problems                                |null|null                |null        |null                     |null              |null                |null              |null                |4.549660560465517     |null                    |\n",
      "|Alley-Way Maintenance                         |null|null                |null        |-46.19059095706955       |null              |null                |null              |null                |null                  |null                    |\n",
      "|Amenity Park Improvement                      |null|null                |null        |null                     |null              |null                |null              |9.64126176872269    |null                  |null                    |\n",
      "|Amenity Park Improvement Int                  |null|null                |null        |null                     |null              |null                |null              |-5.411793981        |null                  |null                    |\n",
      "|Animal Bite(Critical)                         |null|0.01909683481311019 |null        |null                     |null              |null                |null              |null                |null                  |null                    |\n",
      "|Animal Bite(Non-Critical)                     |null|-2.505667547973448  |null        |null                     |null              |null                |null              |null                |null                  |null                    |\n",
      "|Animal Cruelty(Critical)                      |null|-0.06219277353522768|null        |null                     |null              |null                |null              |null                |null                  |null                    |\n",
      "|Animal Investigation Referral                 |null|null                |null        |-40.95604321             |null              |null                |null              |null                |null                  |null                    |\n",
      "|Animal Neglect                                |null|7.3329278780693885  |null        |null                     |null              |null                |null              |null                |null                  |null                    |\n",
      "|Animal Permits Request                        |null|22.197922714476803  |null        |null                     |null              |null                |null              |null                |null                  |null                    |\n",
      "|Automation Property Damage                    |null|null                |null        |null                     |null              |null                |null              |null                |3.7111600885405407    |null                    |\n",
      "|Ballfields                                    |null|null                |null        |null                     |null              |null                |null              |-2.4068484096555913 |null                  |null                    |\n",
      "|Bandit Signs                                  |null|null                |null        |-4.479319586874434       |null              |null                |null              |null                |null                  |null                    |\n",
      "|Barricade                                     |null|null                |null        |null                     |null              |null                |null              |null                |null                  |-1.6085724997620963     |\n",
      "|Barricade Pick Up                             |null|null                |null        |null                     |null              |null                |null              |null                |null                  |-6.970131891220691      |\n",
      "|Base/Pavement Repair                          |null|null                |null        |null                     |null              |null                |null              |null                |null                  |-109.97756630223763     |\n",
      "|Basketball Goals on R.O.W.                    |null|null                |null        |-4.802607754183886       |null              |null                |null              |null                |null                  |null                    |\n",
      "|Bicycle Lane/Route New Request                |null|null                |null        |null                     |null              |null                |null              |null                |null                  |-8.30148443631915       |\n",
      "|Boarding Home Inspection                      |null|null                |null        |12.732003113287353       |null              |null                |null              |null                |null                  |null                    |\n",
      "|Brush - Out of Cycle Collection - Fee Required|null|null                |null        |null                     |null              |null                |null              |null                |-4.316590201619217    |null                    |\n",
      "|Brush / Bulky Miscellaneous                   |null|null                |null        |null                     |null              |null                |null              |null                |-3.0420300215330722   |null                    |\n",
      "|Brush Missed Pick up                          |null|null                |null        |null                     |null              |null                |null              |null                |-5.879397585624518    |null                    |\n",
      "|Brush No Notice                               |null|null                |null        |null                     |null              |null                |null              |null                |-2.938521994696245    |null                    |\n",
      "|Brush Partial Pick Up                         |null|null                |null        |null                     |null              |null                |null              |null                |-5.288008891714286    |null                    |\n",
      "|Brush Property Damage                         |null|null                |null        |null                     |null              |null                |null              |null                |-4.930477772768818    |null                    |\n",
      "|Brush Violations                              |null|null                |null        |-56.7152138821498        |null              |null                |null              |null                |null                  |null                    |\n",
      "|Brush-non Compliance Notice                   |null|null                |null        |null                     |null              |null                |null              |null                |-2.7342875787021277   |null                    |\n",
      "|Brush/Debris Collection                       |null|null                |null        |null                     |null              |null                |null              |-0.6721451203840308 |null                  |null                    |\n",
      "|Brush_Received Invoice                        |null|null                |null        |null                     |null              |null                |null              |null                |-7.2242939814         |null                    |\n",
      "|Bulk Missed Pick up                           |null|null                |null        |null                     |null              |null                |null              |null                |-3.4475298080848145   |null                    |\n",
      "|Bulk Partial Pick Up                          |null|null                |null        |null                     |null              |null                |null              |null                |-0.4594032677115388   |null                    |\n",
      "|Bulk no Notice                                |null|null                |null        |null                     |null              |null                |null              |null                |-2.9989672785709773   |null                    |\n",
      "|Bulk-non Compliance Notice                    |null|null                |null        |null                     |null              |null                |null              |null                |-1.628984374857143    |null                    |\n",
      "|Bulk_Received Invoice                         |null|null                |null        |null                     |null              |null                |null              |null                |-4.458275463          |null                    |\n",
      "|CCO_Request for Research/Information_1        |null|null                |null        |null                     |null              |null                |null              |null                |null                  |null                    |\n",
      "|CPS Energy Metal Poles                        |null|null                |null        |-129.17919786427768      |null              |null                |null              |null                |null                  |null                    |\n",
      "|CPS Energy Towers                             |null|null                |null        |-129.84778717829747      |null              |null                |null              |null                |null                  |null                    |\n",
      "|CPS Energy Wood Poles                         |null|null                |null        |-129.30905202721226      |null              |null                |null              |null                |null                  |null                    |\n",
      "|Carpentry                                     |null|null                |null        |null                     |null              |null                |null              |0.5074417902093622  |null                  |null                    |\n",
      "|Cart Delivery                                 |null|null                |null        |null                     |null              |null                |null              |null                |-3.263870402382655    |null                    |\n",
      "|Cart Exchange Request                         |null|null                |null        |null                     |null              |null                |null              |null                |-3.5270411469435823   |null                    |\n",
      "|Cart PickUp                                   |null|null                |null        |null                     |null              |null                |null              |null                |-3.5665442573160857   |null                    |\n",
      "|Cart Pickup                                   |null|null                |null        |null                     |null              |null                |null              |null                |-3.743059165680054    |null                    |\n",
      "|Cart Placement                                |null|null                |null        |null                     |null              |null                |null              |null                |10.444006189014049    |null                    |\n",
      "|Cart removed from Service                     |null|null                |null        |null                     |null              |null                |null              |null                |-1.537679398222222    |null                    |\n",
      "|Certificates of Occupancy                     |null|null                |null        |-92.57815517679504       |null              |null                |null              |null                |null                  |null                    |\n",
      "|City Council Animal Request                   |null|-1.5475013634821913 |null        |null                     |null              |null                |null              |null                |null                  |null                    |\n",
      "|Complaint                                     |null|null                |null        |null                     |72.87050230311695 |null                |null              |null                |null                  |null                    |\n",
      "|Compliment                                    |null|null                |null        |null                     |-8.030188146545841|null                |null              |null                |null                  |null                    |\n",
      "|Concrete Infrastructure Repair                |null|null                |null        |null                     |null              |null                |null              |null                |null                  |-20.867537014422076     |\n",
      "|Contracted Service Issues                     |null|null                |null        |null                     |null              |null                |null              |null                |56.72045236025        |null                    |\n",
      "|Curb or Sidewalk Investigation                |null|null                |null        |null                     |null              |null                |null              |null                |null                  |-10.7098559053726       |\n",
      "|Curbstoning                                   |null|null                |null        |59.808628977605274       |null              |null                |null              |null                |null                  |null                    |\n",
      "|DSDB Ordered/Hold Harmless/Regular-ALL        |null|null                |null        |-4.657175546620436       |null              |null                |null              |null                |null                  |null                    |\n",
      "|DSDB Ordered/Hold Harmless/Regular: ASEC      |null|null                |null        |-22.5688841082           |null              |null                |null              |null                |null                  |null                    |\n",
      "|DSDB Ordered/Hold Harmless/Regular: Main      |null|null                |null        |-12.388873814519892      |null              |null                |null              |null                |null                  |null                    |\n",
      "|Damaged Cart                                  |null|null                |null        |null                     |null              |null                |null              |null                |-3.5030070988018136   |null                    |\n",
      "|Damaged Organics Cart                         |null|null                |null        |null                     |null              |null                |null              |null                |-1.9812731483333332   |null                    |\n",
      "|Dang Premises/Cut/Clean Only                  |null|null                |null        |-39.6620474370628        |null              |null                |null              |null                |null                  |null                    |\n",
      "|Dang Premises/Secure Only                     |null|null                |null        |-39.85677104811111       |null              |null                |null              |null                |null                  |null                    |\n",
      "|Dang. Premises/CL/SEC                         |null|null                |null        |-40.249111266180414      |null              |null                |null              |null                |null                  |null                    |\n",
      "|Darner Maintenance                            |null|null                |null        |null                     |null              |null                |null              |-1.9491169661176475 |null                  |null                    |\n",
      "|Dart Preliminary Inspection                   |null|null                |null        |-3.2097208295800037      |null              |null                |null              |null                |null                  |null                    |\n",
      "|Dead Animal - Cat                             |null|null                |null        |null                     |null              |null                |null              |null                |-1.737019299177256    |null                    |\n",
      "|Dead Animal - Dog                             |null|null                |null        |null                     |null              |null                |null              |null                |-1.7014251591076546   |null                    |\n",
      "|Dead Animal - Misc                            |null|null                |null        |null                     |null              |null                |null              |null                |-1.7211814534328065   |null                    |\n",
      "|Dead Animal - Private Property                |null|null                |null        |null                     |null              |null                |null              |null                |-2.702826922141361    |null                    |\n",
      "|Dead End/No Outlet Sign Request               |null|null                |null        |null                     |null              |null                |null              |null                |null                  |-22.956445638903226     |\n",
      "|Dead Trees: Private Property                  |null|null                |null        |-53.54495241131995       |null              |null                |null              |null                |null                  |null                    |\n",
      "|Dial-A-Trailer                                |null|null                |null        |null                     |null              |null                |null              |null                |-5.723942674176471    |null                    |\n",
      "|Disability Assistance Missed Pickup           |null|null                |null        |null                     |null              |null                |null              |null                |-0.8504791381338814   |null                    |\n",
      "|Disability Service Requested                  |null|null                |null        |null                     |null              |null                |null              |null                |9.10744464351909      |null                    |\n",
      "|Discharge Into Pub. Waters/St                 |null|null                |null        |-47.195505987891295      |null              |null                |null              |null                |null                  |null                    |\n",
      "|Donation Container Enforcement                |null|null                |null        |131.75610506358706       |null              |null                |null              |null                |null                  |null                    |\n",
      "|Drainage Channel - Emergency                  |null|null                |null        |null                     |null              |null                |null              |null                |null                  |-0.01317749667857144    |\n",
      "|Drainage Channel - Surface Investigation      |null|null                |null        |null                     |null              |null                |null              |null                |null                  |-3.478050688512821      |\n",
      "|Drainage Channel Restoration                  |null|null                |null        |null                     |null              |null                |null              |null                |null                  |-32.87897183672917      |\n",
      "|Drainage Channel/Debris Removal               |null|null                |null        |null                     |null              |null                |null              |null                |null                  |-33.88601232539284      |\n",
      "|Drainage Inlet - Cleaning/Foul Odor           |null|null                |null        |null                     |null              |null                |null              |null                |null                  |-16.233251406600363     |\n",
      "|Drainage Inlet Repair                         |null|null                |null        |null                     |null              |null                |null              |null                |null                  |-38.22566041024753      |\n",
      "|Drainage Investigation                        |null|null                |null        |null                     |null              |null                |null              |null                |null                  |-50.913395428995315     |\n",
      "|Driveways -Adjust                             |null|null                |null        |null                     |null              |null                |null              |null                |null                  |-9.295782122214437      |\n",
      "|Dumpsters: City R.O.W.                        |null|null                |null        |-9.465418022976564       |null              |null                |null              |null                |null                  |null                    |\n",
      "|Dumpsters: Maintenance/Sanitation             |null|null                |null        |-53.1899940020523        |null              |null                |null              |null                |null                  |null                    |\n",
      "|Electrical                                    |null|null                |null        |null                     |null              |null                |null              |11.750504897402118  |null                  |null                    |\n",
      "|Emergency: Accessory Structure Only           |null|null                |null        |8.8055057874             |null              |null                |null              |null                |null                  |null                    |\n",
      "|Emergency: Main Structure Only                |null|null                |null        |8.342505786043477        |null              |null                |null              |null                |null                  |null                    |\n",
      "|Emergency: Main and Accessory Structures      |null|null                |null        |22.253811300629632       |null              |null                |null              |null                |null                  |null                    |\n",
      "|Engineering Design                            |null|null                |null        |null                     |null              |null                |null              |null                |null                  |-1399.1272335           |\n",
      "|Engineering Investigation                     |null|null                |null        |null                     |null              |null                |null              |null                |null                  |-9.384805868132926      |\n",
      "|Fence/Gate Repair                             |null|null                |null        |null                     |null              |null                |null              |3.6582782138442616  |null                  |null                    |\n",
      "|Fencing                                       |null|null                |null        |null                     |null              |null                |null              |-0.170123148302857  |null                  |null                    |\n",
      "|Field Study Report                            |null|null                |null        |-8.199872684999999       |null              |null                |null              |null                |null                  |null                    |\n",
      "|Flashing Beacon New Request                   |null|null                |null        |null                     |null              |null                |null              |null                |null                  |-68.60608196375308      |\n",
      "|Floodplain Inquiry                            |null|null                |null        |null                     |null              |null                |null              |null                |null                  |-0.985798611            |\n",
      "|Fly Breeding and Animal Waste Disposal        |null|null                |null        |-56.706540260078434      |null              |null                |null              |null                |null                  |null                    |\n",
      "|Food Borne Illness                            |null|null                |null        |null                     |null              |null                |-6.892973217974267|null                |null                  |null                    |\n",
      "|Food Contact Surfaces                         |null|null                |null        |null                     |null              |null                |-7.512021432912541|null                |null                  |null                    |\n",
      "|Food Poisoning                                |null|null                |null        |null                     |null              |null                |-7.783637740071427|null                |null                  |null                    |\n",
      "|Food Source                                   |null|null                |null        |null                     |null              |null                |-6.25890370368    |null                |null                  |null                    |\n",
      "|Front Or Side Yard Parking                    |null|null                |null        |-9.14277794990004        |null              |null                |null              |null                |null                  |null                    |\n",
      "|Garage Sales No Permit                        |null|null                |null        |-11.224319862283155      |null              |null                |null              |null                |null                  |null                    |\n",
      "|Garbage Out of Cycle Collection               |null|null                |null        |null                     |null              |null                |null              |null                |-7.104729421033402    |null                    |\n",
      "|Garbage PU Alley Maintenance                  |null|null                |null        |null                     |null              |null                |null              |null                |null                  |-68.73562678737852      |\n",
      "|General Building Maintenance                  |null|null                |null        |null                     |null              |null                |null              |4.191945529579547   |null                  |null                    |\n",
      "|Graffiti                                      |null|null                |null        |null                     |null              |null                |null              |-0.235880981994158  |null                  |null                    |\n",
      "|Graffiti Int                                  |null|null                |null        |null                     |null              |null                |null              |-0.748235976850327  |null                  |null                    |\n",
      "|Graffiti Public Property                      |null|null                |null        |-1.7076284626442504      |null              |null                |null              |null                |null                  |null                    |\n",
      "|Graffiti-Private Property                     |null|null                |null        |-13.306361916630024      |null              |null                |null              |null                |null                  |null                    |\n",
      "|Graffiti: Building                            |null|null                |null        |-0.8757735415667087      |null              |null                |null              |null                |null                  |null                    |\n",
      "|Graffiti: Commercial (Occupied)               |null|null                |null        |-58.870344428275864      |null              |null                |null              |null                |null                  |null                    |\n",
      "|Graffiti: Curb                                |null|null                |null        |-1.8790898675117051      |null              |null                |null              |null                |null                  |null                    |\n",
      "|Graffiti: Drainage Channel                    |null|null                |null        |-0.6265625214620371      |null              |null                |null              |null                |null                  |null                    |\n",
      "|Graffiti: Fence                               |null|null                |null        |-1.4824271014979054      |null              |null                |null              |null                |null                  |null                    |\n",
      "|Graffiti: Guardrail                           |null|null                |null        |-1.7987498700112363      |null              |null                |null              |null                |null                  |null                    |\n",
      "|Graffiti: Private Property (Corridors)        |null|null                |null        |-63.236813830450515      |null              |null                |null              |null                |null                  |null                    |\n",
      "|Graffiti: Residential (Owner Occupied)        |null|null                |null        |-61.111482927500006      |null              |null                |null              |null                |null                  |null                    |\n",
      "|Graffiti: Retaining Wall                      |null|null                |null        |-1.3931876267924161      |null              |null                |null              |null                |null                  |null                    |\n",
      "|Graffiti: Sidewalk                            |null|null                |null        |-0.9463912629743589      |null              |null                |null              |null                |null                  |null                    |\n",
      "|Graffiti: Tenant Occupied (Single/Multi)      |null|null                |null        |-55.643420135            |null              |null                |null              |null                |null                  |null                    |\n",
      "|Graffiti: Traffic Control Box                 |null|null                |null        |-0.7961032759123555      |null              |null                |null              |null                |null                  |null                    |\n",
      "|Graffiti: Traffic Signal Pole                 |null|null                |null        |-2.03639819352451        |null              |null                |null              |null                |null                  |null                    |\n",
      "|Graffiti: Vacant (Commercial)                 |null|null                |null        |-30.916953537857143      |null              |null                |null              |null                |null                  |null                    |\n",
      "|Graffiti: Vacant (Residential)                |null|null                |null        |-48.23054784166666       |null              |null                |null              |null                |null                  |null                    |\n",
      "|Graffiti: Vacant Lots                         |null|null                |null        |-69.07114005             |null              |null                |null              |null                |null                  |null                    |\n",
      "|Guard Rail/Guard Post Damage                  |null|null                |null        |null                     |null              |null                |null              |null                |null                  |-34.369692302561795     |\n",
      "|Guardrail- New Request                        |null|null                |null        |null                     |null              |null                |null              |null                |null                  |-23.855781249869995     |\n",
      "|Heating and Air Conditioning                  |null|null                |null        |null                     |null              |null                |null              |-5.772702066403019  |null                  |null                    |\n",
      "+----------------------------------------------+----+--------------------+------------+-------------------------+------------------+--------------------+------------------+--------------------+----------------------+------------------------+\n",
      "only showing top 150 rows\n",
      "\n"
     ]
    }
   ],
   "source": [
    "case_source_dept.groupBy('service_request_type').pivot('dept_name').mean('num_days_late').sort(asc('service_request_type')).show(150,truncate=False)"
   ]
  },
  {
   "cell_type": "code",
   "execution_count": null,
   "metadata": {},
   "outputs": [],
   "source": []
  }
 ],
 "metadata": {
  "kernelspec": {
   "display_name": "Python 3",
   "language": "python",
   "name": "python3"
  },
  "language_info": {
   "codemirror_mode": {
    "name": "ipython",
    "version": 3
   },
   "file_extension": ".py",
   "mimetype": "text/x-python",
   "name": "python",
   "nbconvert_exporter": "python",
   "pygments_lexer": "ipython3",
   "version": "3.8.5"
  }
 },
 "nbformat": 4,
 "nbformat_minor": 4
}
